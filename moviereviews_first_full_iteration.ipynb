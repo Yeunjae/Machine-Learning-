{
 "cells": [
  {
   "cell_type": "markdown",
   "metadata": {},
   "source": [
    "# Movie reviews\n",
    "\n",
    "This notebook takes you though a complete iteration of Machine Learning Assignment 1 - Movie reviews. The assignment details (including links to download the data) can be found [here](https://docs.google.com/document/d/1WGYw99e5q6j5V0Zrf2HveagU6URt_kVvdR8B9HYQ99E/edit?usp=sharing). "
   ]
  },
  {
   "cell_type": "code",
   "execution_count": 120,
   "metadata": {},
   "outputs": [],
   "source": [
    "# all imports and magic commands\n",
    "import numpy as np\n",
    "import pandas as pd\n",
    "import matplotlib.pyplot as plt\n",
    "from my_measures import BinaryClassificationPerformance\n",
    "from sklearn.feature_extraction.text import HashingVectorizer\n",
    "from sklearn.feature_extraction.text import TfidfTransformer\n",
    "from scipy.sparse import csr_matrix, hstack\n",
    "from sklearn.preprocessing import StandardScaler\n",
    "from sklearn.model_selection import train_test_split\n",
    "\n",
    "#YJ ADD\n",
    "from sklearn.feature_extraction.text import CountVectorizer\n",
    "\n",
    "%matplotlib inline"
   ]
  },
  {
   "cell_type": "markdown",
   "metadata": {},
   "source": [
    "### IMPORTANT!!! Make sure you are using `BinaryClassificationPerformance` v1.02"
   ]
  },
  {
   "cell_type": "code",
   "execution_count": 121,
   "metadata": {},
   "outputs": [
    {
     "name": "stdout",
     "output_type": "stream",
     "text": [
      "Help on class BinaryClassificationPerformance in module my_measures:\n",
      "\n",
      "class BinaryClassificationPerformance(builtins.object)\n",
      " |  BinaryClassificationPerformance(predictions, labels, desc, probabilities=None)\n",
      " |  \n",
      " |  Performance measures to evaluate the fit of a binary classification model, v1.02\n",
      " |  \n",
      " |  Methods defined here:\n",
      " |  \n",
      " |  __init__(self, predictions, labels, desc, probabilities=None)\n",
      " |      Initialize attributes: predictions-vector of predicted values for Y, labels-vector of labels for Y\n",
      " |  \n",
      " |  compute_measures(self)\n",
      " |      Compute performance measures defined by Flach p. 57\n",
      " |  \n",
      " |  img_indices(self)\n",
      " |      Get the indices of true and false positives to be able to locate the corresponding images in a list of image names\n",
      " |  \n",
      " |  ----------------------------------------------------------------------\n",
      " |  Data descriptors defined here:\n",
      " |  \n",
      " |  __dict__\n",
      " |      dictionary for instance variables (if defined)\n",
      " |  \n",
      " |  __weakref__\n",
      " |      list of weak references to the object (if defined)\n",
      "\n"
     ]
    }
   ],
   "source": [
    "help(BinaryClassificationPerformance)"
   ]
  },
  {
   "cell_type": "markdown",
   "metadata": {},
   "source": [
    "# Function for feature building and extraction on natural language data"
   ]
  },
  {
   "cell_type": "code",
   "execution_count": 122,
   "metadata": {},
   "outputs": [
    {
     "ename": "SyntaxError",
     "evalue": "unmatched ')' (4110938657.py, line 31)",
     "output_type": "error",
     "traceback": [
      "\u001b[0;36m  File \u001b[0;32m\"/var/folders/yz/rnp375c502b3y_gwj8jjpb8m0000gn/T/ipykernel_42112/4110938657.py\"\u001b[0;36m, line \u001b[0;32m31\u001b[0m\n\u001b[0;31m    vectorizer = CountVectorizer(ngram_range=(1, 3),stop_words= 'english')) #change\u001b[0m\n\u001b[0m                                                                          ^\u001b[0m\n\u001b[0;31mSyntaxError\u001b[0m\u001b[0;31m:\u001b[0m unmatched ')'\n"
     ]
    }
   ],
   "source": [
    "# function that takes raw data and completes all preprocessing required before model fits\n",
    "def process_raw_data(fn, my_random_seed, test=False):\n",
    "    # read and summarize data\n",
    "    movie_data = pd.read_csv(fn, sep='\\t')\n",
    "    print(\"movie_data is:\", type(movie_data))\n",
    "    print(\"movie_data has\", movie_data.shape[0], \"rows and\", movie_data.shape[1], \"columns\", \"\\n\")\n",
    "    print(\"the data types for each of the columns in movie_data:\")\n",
    "    print(movie_data.dtypes, \"\\n\")\n",
    "    print(\"the first 10 rows in movie_data:\")\n",
    "    print(movie_data.head(5))\n",
    "    if (not test):\n",
    "        print(\"The rate of 'good' movie reviews in the dataset: \")\n",
    "        print(movie_data['sentiment'].mean())\n",
    "\n",
    "    # vectorize Bag of Words from review text; as sparse matrix\n",
    "#    if (not test): # fit_transform()\n",
    "#        hv = HashingVectorizer(n_features=2 ** 17, alternate_sign=False) #change\n",
    "#        X_hv = hv.fit_transform(movie_data.review) #google\n",
    "#        fitted_transformations.append(hv) #append=addtothelist\n",
    "#        print(\"Shape of HashingVectorizer X:\")\n",
    "#        print(X_hv.shape)\n",
    "#    else: # transform() \n",
    "#        X_hv = fitted_transformations[0].transform(movie_data.review)\n",
    "#        print(\"Shape of HashingVectorizer X:\")\n",
    "#        print(X_hv.shape)\n",
    "        \n",
    "        \n",
    "#YJ ADD\n",
    "    if (not test): # fit_transform()\n",
    "        \n",
    "        vectorizer = CountVectorizer(ngram_range=(1, 3),stop_words= 'english')) #change\n",
    "        X_vr = vectorizer.fit_transform(movie_data.review) #google #change\n",
    "        fitted_transformations.append(vectorizer) #append=addtothelist\n",
    "        print(\"Shape of CountVectorizer X:\")\n",
    "        print(X_vr.shape)\n",
    "    else: # transform() \n",
    "        X_vr = fitted_transformations[0].transform(movie_data.review)\n",
    "        print(\"Shape of CountVectorizer X:\")\n",
    "        print(X_vr.shape)\n",
    "\n",
    "\n",
    "    \n",
    "    # http://scikit-learn.org/stable/modules/generated/sklearn.feature_extraction.text.TfidfTransformer.html\n",
    "    if (not test):\n",
    "        transformer = TfidfTransformer()\n",
    "        X_tfidf = transformer.fit_transform(X_vr)  #change\n",
    "        fitted_transformations.append(transformer)\n",
    "    else:\n",
    "        X_tfidf = fitted_transformations[1].transform(X_vr)\n",
    "    \n",
    "    # create additional quantitative features\n",
    "    # features from Amazon.csv to add to feature set\n",
    "    movie_data['word_count'] = movie_data['review'].str.split(' ').str.len()\n",
    "    movie_data['punc_count'] = movie_data['review'].str.count(\"\\.\")\n",
    "\n",
    "    X_quant_features = movie_data[[\"word_count\", \"punc_count\"]]\n",
    "    print(\"Look at a few rows of the new quantitative features: \")\n",
    "    print(X_quant_features.head(10))\n",
    "    \n",
    "    # Combine all quantitative features into a single sparse matrix\n",
    "    X_quant_features_csr = csr_matrix(X_quant_features)\n",
    "    X_combined = hstack([X_tfidf, X_quant_features_csr])\n",
    "    X_matrix = csr_matrix(X_combined) # convert to sparse matrix\n",
    "    print(\"Size of combined bag of words and new quantitative variables matrix:\")\n",
    "    print(X_matrix.shape)\n",
    "    \n",
    "    # Create `X`, scaled matrix of features\n",
    "    # feature scaling\n",
    "    if (not test):\n",
    "        sc = StandardScaler(with_mean=False) #change\n",
    "        X = sc.fit_transform(X_matrix)\n",
    "        fitted_transformations.append(sc)\n",
    "        print(X.shape)\n",
    "        y = movie_data['sentiment']\n",
    "    else:\n",
    "        X = fitted_transformations[2].transform(X_matrix)\n",
    "        print(X.shape)\n",
    "    \n",
    "    # Create Training and Test Sets\n",
    "    # enter an integer for the random_state parameter; any integer will work\n",
    "    if (test):\n",
    "        X_submission_test = X\n",
    "        print(\"Shape of X_test for submission:\")\n",
    "        print(X_submission_test.shape)\n",
    "        print('SUCCESS!')\n",
    "        return(movie_data, X_submission_test)\n",
    "    else: \n",
    "        X_train, X_test, y_train, y_test, X_raw_train, X_raw_test = train_test_split(X, y, movie_data, test_size=0.2, random_state=my_random_seed)\n",
    "        print(\"Shape of X_train and X_test:\")\n",
    "        print(X_train.shape)\n",
    "        print(X_test.shape)\n",
    "        print(\"Shape of y_train and y_test:\")\n",
    "        print(y_train.shape)\n",
    "        print(y_test.shape)\n",
    "        print(\"Shape of X_raw_train and X_raw_test:\")\n",
    "        print(X_raw_train.shape)\n",
    "        print(X_raw_test.shape)\n",
    "        print('SUCCESS!')\n",
    "        return(X_train, X_test, y_train, y_test, X_raw_train, X_raw_test)"
   ]
  },
  {
   "cell_type": "markdown",
   "metadata": {},
   "source": [
    "# Create training and test sets from function"
   ]
  },
  {
   "cell_type": "code",
   "execution_count": 123,
   "metadata": {},
   "outputs": [
    {
     "name": "stdout",
     "output_type": "stream",
     "text": [
      "movie_data is: <class 'pandas.core.frame.DataFrame'>\n",
      "movie_data has 25000 rows and 3 columns \n",
      "\n",
      "the data types for each of the columns in movie_data:\n",
      "id           object\n",
      "sentiment     int64\n",
      "review       object\n",
      "dtype: object \n",
      "\n",
      "the first 10 rows in movie_data:\n",
      "       id  sentiment                                             review\n",
      "0  5814_8          1  With all this stuff going down at the moment w...\n",
      "1  2381_9          1  \\The Classic War of the Worlds\\\" by Timothy Hi...\n",
      "2  7759_3          0  The film starts with a manager (Nicholas Bell)...\n",
      "3  3630_4          0  It must be assumed that those who praised this...\n",
      "4  9495_8          1  Superbly trashy and wondrously unpretentious 8...\n",
      "The rate of 'good' movie reviews in the dataset: \n",
      "0.5\n",
      "Shape of CountVectorizer X:\n",
      "(25000, 5165791)\n",
      "Look at a few rows of the new quantitative features: \n",
      "   word_count  punc_count\n",
      "0         433          20\n",
      "1         158          16\n",
      "2         378          20\n",
      "3         379           8\n",
      "4         367           9\n",
      "5          89           5\n",
      "6         112           9\n",
      "7         132           9\n",
      "8         163           7\n",
      "9          43           5\n",
      "Size of combined bag of words and new quantitative variables matrix:\n",
      "(25000, 5165793)\n",
      "(25000, 5165793)\n",
      "Shape of X_train and X_test:\n",
      "(20000, 5165793)\n",
      "(5000, 5165793)\n",
      "Shape of y_train and y_test:\n",
      "(20000,)\n",
      "(5000,)\n",
      "Shape of X_raw_train and X_raw_test:\n",
      "(20000, 5)\n",
      "(5000, 5)\n",
      "SUCCESS!\n",
      "Number of fits stored in `fitted_transformations` list: \n",
      "3\n"
     ]
    }
   ],
   "source": [
    "# create an empty list to store any use of fit_transform() to transform() later\n",
    "# it is a global list to store model and feature extraction fits\n",
    "fitted_transformations = []\n",
    "\n",
    "# CHANGE FILE PATH and my_random_seed number (any integer other than 74 will do): \n",
    "X_train, X_test, y_train, y_test, X_raw_train, X_raw_test = process_raw_data(fn='/Users/user/Desktop/ML/final_assignment_1/moviereviews_train.tsv', my_random_seed=9)\n",
    "\n",
    "print(\"Number of fits stored in `fitted_transformations` list: \")\n",
    "print(len(fitted_transformations))"
   ]
  },
  {
   "cell_type": "markdown",
   "metadata": {},
   "source": [
    "# Fit (and tune) Various Models"
   ]
  },
  {
   "cell_type": "markdown",
   "metadata": {},
   "source": [
    "### MODEL: ordinary least squares"
   ]
  },
  {
   "cell_type": "code",
   "execution_count": 124,
   "metadata": {},
   "outputs": [
    {
     "name": "stdout",
     "output_type": "stream",
     "text": [
      "{'Pos': 9953, 'Neg': 10047, 'TP': 2615, 'TN': 7722, 'FP': 2325, 'FN': 7338, 'Accuracy': 0.51685, 'Precision': 0.5293522267206477, 'Recall': 0.2627348538129207, 'desc': 'ols_train'}\n"
     ]
    }
   ],
   "source": [
    "from sklearn import linear_model\n",
    "ols = linear_model.SGDClassifier(loss=\"squared_loss\")\n",
    "ols.fit(X_train, y_train)\n",
    "\n",
    "ols_performance_train = BinaryClassificationPerformance(ols.predict(X_train), y_train, 'ols_train')\n",
    "ols_performance_train.compute_measures()\n",
    "print(ols_performance_train.performance_measures)"
   ]
  },
  {
   "cell_type": "markdown",
   "metadata": {},
   "source": [
    "### MODEL: SVM, linear"
   ]
  },
  {
   "cell_type": "code",
   "execution_count": 125,
   "metadata": {},
   "outputs": [
    {
     "name": "stdout",
     "output_type": "stream",
     "text": [
      "{'Pos': 9953, 'Neg': 10047, 'TP': 9953, 'TN': 10047, 'FP': 0, 'FN': 0, 'Accuracy': 1.0, 'Precision': 1.0, 'Recall': 1.0, 'desc': 'svm_train'}\n"
     ]
    }
   ],
   "source": [
    "from sklearn import linear_model\n",
    "svm = linear_model.SGDClassifier()\n",
    "svm.fit(X_train, y_train)\n",
    "\n",
    "svm_performance_train = BinaryClassificationPerformance(svm.predict(X_train), y_train, 'svm_train')\n",
    "svm_performance_train.compute_measures()\n",
    "print(svm_performance_train.performance_measures)"
   ]
  },
  {
   "cell_type": "markdown",
   "metadata": {},
   "source": [
    "### MODEL: logistic regression"
   ]
  },
  {
   "cell_type": "code",
   "execution_count": 126,
   "metadata": {},
   "outputs": [
    {
     "name": "stdout",
     "output_type": "stream",
     "text": [
      "{'Pos': 9953, 'Neg': 10047, 'TP': 9953, 'TN': 10047, 'FP': 0, 'FN': 0, 'Accuracy': 1.0, 'Precision': 1.0, 'Recall': 1.0, 'desc': 'lgs_train'}\n"
     ]
    }
   ],
   "source": [
    "from sklearn import linear_model\n",
    "lgs = linear_model.SGDClassifier(loss='log')\n",
    "lgs.fit(X_train, y_train)\n",
    "\n",
    "lgs_performance_train = BinaryClassificationPerformance(lgs.predict(X_train), y_train, 'lgs_train')\n",
    "lgs_performance_train.compute_measures()\n",
    "print(lgs_performance_train.performance_measures)"
   ]
  },
  {
   "cell_type": "markdown",
   "metadata": {},
   "source": [
    "### MODEL: Naive Bayes"
   ]
  },
  {
   "cell_type": "code",
   "execution_count": 127,
   "metadata": {},
   "outputs": [
    {
     "name": "stdout",
     "output_type": "stream",
     "text": [
      "{'Pos': 9953, 'Neg': 10047, 'TP': 9953, 'TN': 10047, 'FP': 0, 'FN': 0, 'Accuracy': 1.0, 'Precision': 1.0, 'Recall': 1.0, 'desc': 'nbs_train'}\n"
     ]
    }
   ],
   "source": [
    "from sklearn.naive_bayes import MultinomialNB\n",
    "nbs = MultinomialNB()\n",
    "nbs.fit(X_train, y_train)\n",
    "\n",
    "nbs_performance_train = BinaryClassificationPerformance(nbs.predict(X_train), y_train, 'nbs_train')\n",
    "nbs_performance_train.compute_measures()\n",
    "print(nbs_performance_train.performance_measures)"
   ]
  },
  {
   "cell_type": "markdown",
   "metadata": {},
   "source": [
    "### MODEL: Perceptron"
   ]
  },
  {
   "cell_type": "code",
   "execution_count": 128,
   "metadata": {},
   "outputs": [
    {
     "name": "stdout",
     "output_type": "stream",
     "text": [
      "{'Pos': 9953, 'Neg': 10047, 'TP': 9953, 'TN': 10047, 'FP': 0, 'FN': 0, 'Accuracy': 1.0, 'Precision': 1.0, 'Recall': 1.0, 'desc': 'prc_train'}\n"
     ]
    }
   ],
   "source": [
    "from sklearn import linear_model\n",
    "prc = linear_model.SGDClassifier(loss='perceptron')\n",
    "prc.fit(X_train, y_train)\n",
    "\n",
    "prc_performance_train = BinaryClassificationPerformance(prc.predict(X_train), y_train, 'prc_train')\n",
    "prc_performance_train.compute_measures()\n",
    "print(prc_performance_train.performance_measures)"
   ]
  },
  {
   "cell_type": "markdown",
   "metadata": {},
   "source": [
    "### MODEL: Ridge Regression Classifier"
   ]
  },
  {
   "cell_type": "code",
   "execution_count": 129,
   "metadata": {},
   "outputs": [
    {
     "name": "stdout",
     "output_type": "stream",
     "text": [
      "{'Pos': 9953, 'Neg': 10047, 'TP': 9953, 'TN': 10047, 'FP': 0, 'FN': 0, 'Accuracy': 1.0, 'Precision': 1.0, 'Recall': 1.0, 'desc': 'rdg_train'}\n"
     ]
    }
   ],
   "source": [
    "from sklearn import linear_model\n",
    "rdg = linear_model.RidgeClassifier()\n",
    "rdg.fit(X_train, y_train)\n",
    "\n",
    "rdg_performance_train = BinaryClassificationPerformance(rdg.predict(X_train), y_train, 'rdg_train')\n",
    "rdg_performance_train.compute_measures()\n",
    "print(rdg_performance_train.performance_measures)"
   ]
  },
  {
   "cell_type": "markdown",
   "metadata": {},
   "source": [
    "### MODEL: Random Forest Classifier"
   ]
  },
  {
   "cell_type": "code",
   "execution_count": 130,
   "metadata": {},
   "outputs": [
    {
     "name": "stdout",
     "output_type": "stream",
     "text": [
      "{'Pos': 9953, 'Neg': 10047, 'TP': 5210, 'TN': 8828, 'FP': 1219, 'FN': 4743, 'Accuracy': 0.7019, 'Precision': 0.81039041841655, 'Recall': 0.523460263237215, 'desc': 'rdf_train'}\n"
     ]
    }
   ],
   "source": [
    "from sklearn.ensemble import RandomForestClassifier\n",
    "rdf = RandomForestClassifier(max_depth=2, random_state=0)\n",
    "rdf.fit(X_train, y_train)\n",
    "\n",
    "rdf_performance_train = BinaryClassificationPerformance(rdf.predict(X_train), y_train, 'rdf_train')\n",
    "rdf_performance_train.compute_measures()\n",
    "print(rdf_performance_train.performance_measures)"
   ]
  },
  {
   "cell_type": "markdown",
   "metadata": {},
   "source": [
    "### ROC plot to compare performance of various models and fits"
   ]
  },
  {
   "cell_type": "code",
   "execution_count": 131,
   "metadata": {
    "scrolled": false
   },
   "outputs": [
    {
     "data": {
      "image/png": "[encoded data removed]",
      "text/plain": [
       "<Figure size 432x288 with 1 Axes>"
      ]
     },
     "metadata": {
      "needs_background": "light"
     },
     "output_type": "display_data"
    }
   ],
   "source": [
    "fits = [ols_performance_train, svm_performance_train, lgs_performance_train, nbs_performance_train, prc_performance_train, rdg_performance_train, rdf_performance_train]\n",
    "\n",
    "for fit in fits:\n",
    "    plt.plot(fit.performance_measures['FP'] / fit.performance_measures['Neg'], \n",
    "             fit.performance_measures['TP'] / fit.performance_measures['Pos'], 'bo')\n",
    "    plt.text(fit.performance_measures['FP'] / fit.performance_measures['Neg'], \n",
    "             fit.performance_measures['TP'] / fit.performance_measures['Pos'], fit.desc)\n",
    "plt.axis([0, 1, 0, 1])\n",
    "plt.title('ROC plot: test set')\n",
    "plt.xlabel('False positive rate')\n",
    "plt.ylabel('True positive rate')\n",
    "plt.show()"
   ]
  },
  {
   "cell_type": "markdown",
   "metadata": {},
   "source": [
    "### looking at reviews based on their classification\n",
    "\n",
    "Let's say we decide that Ordinary Least Squares (OLS) Regression is the best model for generalization. Let's take a look at some of the reviews and try to make a (subjective) determination of whether it's generalizing well. "
   ]
  },
  {
   "cell_type": "code",
   "execution_count": 132,
   "metadata": {},
   "outputs": [],
   "source": [
    "ols_predictions = ols.predict(X_train)"
   ]
  },
  {
   "cell_type": "markdown",
   "metadata": {},
   "source": [
    "### let's look at some false positives:"
   ]
  },
  {
   "cell_type": "code",
   "execution_count": 133,
   "metadata": {},
   "outputs": [
    {
     "name": "stdout",
     "output_type": "stream",
     "text": [
      "Examples of false positives:\n",
      "140\n",
      "I loved the first two movies, but this movie was just a waste of time and money (for me and the studio). I'm still wondering why they made this horrible movie. The thing with the plastic gun and with the toy car, that can go into another house are ridiculous. Joe Pesci and Daniel Stern in the first two movies were so funny, but the terrorists in this one are so stupid and not funny. Believe me this movie is just a waste of time.\n",
      "* * * * * * * * * \n",
      "265\n",
      "Sometimes, making something strange and contemporary doesn't always work to everyone's advantage. While I will admit that the set design and concept of the film was rather interesting, the execution of these ideas into one congruent story just didn't work. This film was so hideously slow and pointless, not even Robin Williams could save this garbage. It's obvious Barry Levinson's dream fell flat on its face, but he should have warned the rest of the world about this slop.\n",
      "* * * * * * * * * \n",
      "394\n",
      "Comedy Central has had success with original programming using professional comics. The Chapelle Show, Mind of Mencia, The Daily Show and the hugely popular Colbert Report all star professional comics and all are, or in the case of Chapelle Show, were, solid shows. Given that Sarah Silverman is one of the best female comics in the business, I was expecting good stuff when I tuned in.<br /><br />I was so disappointed.<br /><br />There were some mildly funny sequences, but given that the star is the caliber of Silverman, the show could have been much better. It was just the pilot, and hopefully next week's show will be better. If not, get her some help in the form of better writers for the show.\n",
      "* * * * * * * * * \n",
      "494\n",
      "Trite, clichéd dialog and plotting (the same kind of stuff we saw all through the 1980s fantasy movies), hokey music, and a paint-by-numbers characters knocks this out of the running for all but the most hardcore fans.<br /><br />What saves this film from the junk heap is the beautiful crutch of Bakshi's work, the rotoscoping, and the fact that Frank Frazetta taught the animators how to draw like him. This is Frazetta...in motion. The violence is spectacular and the art direction and animation are unlike any other sword & sorcery movie of the period.<br /><br />I like to watch this with the sound off, playing the soundtrack to the first Conan movie instead.\n",
      "* * * * * * * * * \n",
      "773\n",
      "You'd think the first landing on the Moon would be dramatic enough without needing to make up stuff about it. However, this documentary seems to need to cast everything in the scariest possible light. It talks about the risks associated with the lunar module and mentions Armstrong's nearly fatal accident with the training vehicle, as if the trainer and the spacecraft had anything to do with each other. It makes the computer overload problem (the 1202 and 1201 alarms) encountered during the final landing sequence sound like a near-catastrophe when it was just an annoyance and not a risk to the crew at all. And it takes the \\thirty seconds\\\" call to mean thirty seconds of fuel left before running out, when it's actually thirty seconds before an abort is mandatory.<br /><br />If you want to see a documentary or dramatization of Apollo 11, go for \\\"From the Earth to the Moon\\\" or one of the PBS documentaries, but skip this one.\"\n",
      "* * * * * * * * * \n",
      "1055\n",
      "Nothing new in this hackneyed romance with characters put into unbelievable situations, speaking dialogue that borders on the ridiculous. This is an example of another movie put into production before serious script problems were solved. Don't waste your time.\n",
      "* * * * * * * * * \n",
      "1078\n",
      "I have to say that I used to be a huge fan of the series. The first 3 were great and the others had their moments, but this new BETA HOUSE is one of the worst movies I have ever seen. It is a shame since this was a great series and it just keeps getting worse. I know they are made for DVD films but some effort would be nice.<br /><br />There are no laughs, just a couple of good one-liners that will bring a smile if that. There is pretty of nudity and very hot chicks. But neither the sexy stuff nor the jokes really work.<br /><br />To add to all that this is a RACIST film too or as racist of a film one can make without asking to be called racist. I am NOT one of those people who think everything should be politically correct. But the portrayal of minorities is very offensive.<br /><br />I wouldn't waste any time on this garbage. See the previous versions, they will make you laugh not sick.\n",
      "* * * * * * * * * \n",
      "1107\n",
      "One of the major flaws in this film is that while the mocking of pretentious yuppies is satisfying, it fails to realize that the movie makers themselves are guilty of being one of those that deserve to be mocked. One of the characteristics of these yuppie types is the conceited misunderstanding that they (the yuppies) are the only ones sophisticated enough to understand art. While the movie ignores this characteristic and instead focuses on their misunderstandings of dinning, I find it ironic that only people who enjoy this movie boast the same conceited taste in films as the characters do in their choice of dinner. If these pompous characters that were in this movie have a video library at home, I would bet that American Psycho would be one of those movies.\n",
      "* * * * * * * * * \n",
      "1208\n",
      "I'm trying to picture the pitch for Dark Angel. \\I'm thinking Matrix, I'm thinking Bladerunner, I'm thinking that chick that plays Faith in Angel, wearing shiny black leather - or some chick just like her, leave that one with us. Only - get this! - we'll do it without any plot, dialogue, character, decent action or budget, just some loud bangs and a hot chick in shiny black leather straddling a big throbbing bike. Fanboys dig loud bangs and hot chicks in shiny black leather straddling big throbbing bikes, right?\\\"<br /><br />Flashy, shallow, dreary, formulaic, passionless, tedious, dull, dumb, humourless, desultory, barely competent. Live action anime without any action, or indeed any life. SF just the way Joe Fanboy likes it, in fact. :(\"\n",
      "* * * * * * * * * \n",
      "1286\n",
      "This is the weakest of the series, not much of a plot and a rather odd-looking Wallace. But it's still pretty good, considering. A sign of greater things to come!<br /><br />6/10\n",
      "* * * * * * * * * \n",
      "1301\n",
      "I would like to say that unlike many of the people who disliked this film and found it impossible to understand I was fully able to understand it for what it is.. A very incoherent attempt at a plot line.<br /><br />I don't like to toss this word around but in this case it fits very well. The director firstly presents the material in an extremely \\arrogant\\\" way and worse, extremely incoherently. It is incoherent in that it presents the material in a messy dislodged order, making us think that the director was too drunk to remember which scenes come first, and arrogant in that at 2 hours long they expect us, the viewer to CARE by the end of it.<br /><br />I respect surrealist cinema for what it is. (creating a story around a more than real world that does not tie to real life) But there is nothing surreal about having a story placed in ordinary modern times, and a modern day earth setting, that is most importantly not able to engage the audience but furthermore, simply a dislodged series of events that barely tie together. The most accurate way to describe the experience of viewing this film is like viewing a story; perhaps even a very GOOD story as it was based on a book, but being frustrated by the fact that the camera doesn't seem to capture the necessary moments and tie together any means of coherence.<br /><br />Let's compare stylistic cinema. Compare Gaspar Noe's \\\"Seul contre tous\\\" to this. He gave us a coherent, extremely engaging and intellectually deep story. This movie offers no intellectual study, and while it is very stylistic in it's fragmented presentation, the director has ultimately abandoned the essential art of good storytelling and all we are left with is a mess of events that barely tie in together.<br /><br />Yes indeed it IS possible to make sense of things.... to a POINT. But as i said earlier the viewer will reach a stage where they simply say \\\"Who cares.\\\" It plays out like watching a drab mundane story of a man going to a supermarket and buying groceries in uncronological order. Even with murders it is completely uninteresting and unengaging. Too many people these days will give high marks to something they are unable to understand or make sense of simply for fear of looking foolish, and in every way this film TRIES to make the viewer look foolish.<br /><br />If you have too much time on your hands, then please watch this film, taking into account what I have said of it. It is a story based on a book that could have been presented in a MUCH more effective way and that is my bottom line reasoning.\"\n",
      "* * * * * * * * * \n",
      "1531\n",
      "STAR RATING: ***** Saturday Night **** Friday Night *** Friday Morning ** Sunday Night * Monday Morning <br /><br />Marshall Lawson (Steven Seagal) is assigned to France on a reconaissance mission along with three new young strike-team recruits after disobeying a direct order from above. However the night before they're due to strike, they are all found grusomely slaughtered by a killer with seemingly inhuman strength. With the French police dallying around with their own investigation, he goes in search of those responsible himself, only to uncover a corrupt faction of the military dealing in a deadly new drug that alters a person's DNA and gives them terrifying new strength.<br /><br />Bad cover. Bad title. Bad post-production tampering. And bad trailer. Pretty bad film. But, I've got to say, I don't think Attack Force is quite his worst. I know this will make me unpopular with most of the other reviewers here (perhaps not Steveday!) but I think a lot of the criticism has stemmed from all the bad news that went before the film rather than the actual quality of it itself.<br /><br />I must say there was nowhere near as much dubbing or ropey editing as I'd been lead to believe. The dubbing there was (which made him sound like Martin Sheen with a groin problem!) was pretty awful and quite frequent but not in use for as large a segment of the film as I'd thought. The plot flowed pretty smoothly as well considering all the messing about with the original finished film called Harvester that went on. Also as another reviewer noted, the film has a nice Gothic look to it, a new touch for a Seagal film.<br /><br />The absolute killer low point, though, was the complete and total lack of any exciting action, with only a few poorly filmed fight scenes for any fun.<br /><br />I have to be honest, though, I would rather watch this again than Flight of Fury, Today You Die or Out for a Kill. **\n",
      "* * * * * * * * * \n",
      "1665\n",
      "the characters at depth-less rip offs. you've seen all the characters in other movies, i promise. the script tries to be edgy and obnoxious but fails miserably. it throws in some hangover meets superbad comedy but the jokes are way out of left field, completely forced, and are disreguarded almost completely after they are cracked. the hot chick is old and has no personality, shes just some early thirties blonde chick with a few wise ass non-underwear wearing jokes who is less than endearing. the attraction between Molly (the hot chick) and Kirk (the dorky love interest) is barely communicated. the attraction in no where to be found its a completely platonic relationship until they awkward and predictable seat belt- mishap kiss occurs. afer this they are in a full on relationship and its just incredibly lame. the main focus of this movie is not the relationship, but a failed attempt at making a raunchy super-bad-esquire movie with a semi appealing plot. I could compare this to the hangover, in its forced nature. i wont get into that. i could keep going but its just pointless. just don't pay to see this movie.\n",
      "* * * * * * * * * \n",
      "1733\n",
      "This was recently on AMC's vibrant movie classics and I had to laugh. I had high hopes for this adventure that follows in the vein of \\Voyage to the Earth's Core\\\" and \\\"Mysterious Island\\\". I was sorely disappointed not only in the acting credentials but in the silly story line that reads from a five year old's comic book. Be sure to catch sight of the wires that are holding on to the Pterdactyl's wings when they grasp \\\"Ogar\\\" a half idiot pre-modern man who befriends the lost adventurers. The ending left it open for further rehashing of the same effects in \\\"People that Time Forgot\\\". Don't waste your time.\"\n",
      "* * * * * * * * * \n",
      "2039\n",
      "Dissapointing action movie with an interesting premise: a young Mafia would-to-be killer (Chandler) must demonstrate to his boss that he is a good man for the service so he goes to California to take some lessons with a very known professional killer (Beluschi). First and most important task: to kill a young woman (Lee) that is a completely strange for all of them. But is she a easy target? The movie goes on and on based upon this principal idea but the result is just bad routine; even the weird twist at the end does not save the movie. Good performance by Chandler. I give this a 4 (four).\n",
      "* * * * * * * * * \n",
      "2043\n",
      "There is good. There is bad. And then their is The Sentinel, a bottom-barrel political \\thriller\\\" that ranks among the worst movies I have ever seen. The plot of a mole in the Secret Service is a good one, but never has a movie with so much potential been so utterly butchered. Directed with ham-handed \\\"edginess\\\" by Clark Johnson, every actor in this film seems to be working on autopilot. Even the great Michael Douglas looks bored here. I can honestly say I have NEVER, in all my life, viewed another film with so many glaring plot holes. The twist is predictable from square one, and the character's motives are so utterly ridiculous that they inspired laughter from the audience. Avoid this at all costs. This is a catastrophe of a movie with no redeeming value.\"\n",
      "* * * * * * * * * \n",
      "2281\n",
      "Boring and appallingly acted(Summer Pheonix). She sounded more Asian than Jewish. Some of the scenes and costumes looked more mid 20th century than late 19th century. What on earth fine actors like Ian Holm & Anton Lesser were doing in this is beyond me.\n",
      "* * * * * * * * * \n",
      "2302\n",
      "I'm not sure it was the language or the poor acting, but everything about this movie feels and looks cheap and fake.<br /><br />After seeing Der Untergang this is a huge disappointment. There's no connection between different scenes, and the acting is so incredibly poor I couldn't even believe people could make such a mess of something that had great potential.<br /><br />And above all, everyone in Germany speaks English. Big mistake. The German language has a certain sound to it, and especially Hitler himself only sounds like Hitler when he's speaking/yelling German.<br /><br />The way the story is told made me believe it was improvised on the spot, the characters were empty and the movie seems to be a collection of random events that could have happened.<br /><br />Whether it's the English or the fact that I've already seen Der Untergang, everything about this movie was fake and ridiculous.\n",
      "* * * * * * * * * \n",
      "2500\n",
      "This is one of the most putrid movies of the 90's. I would not recommend it if you have something better to do. <br /><br />This picture presents African-Americans as savage, uncultured, violent, inarticulate, reefer-smoking sociopaths. Fudge(Ice Cube) and his posse of homies are continuously disrespectful toward others in the dorm, not just the white people, but Asians too, and are never disciplined for their actions. Despite all that tolerance they keep on whining and crying about the evil white oppressors who run their lives and stand in their way. In fact it is Fudge's influence that causes Remmy to bond with the skin heads, to drop out of college, and eventually to kill Malik's girlfriend.<br /><br />The skinheads are presented as a covert group of underachievers who share a pad off campus and generally stay away from everyone else. They never blast their music to annoy people nor do they taunt the police. They do commit serious crime such as battery and rape, yet they're not as repulsive nor as threatening as Fudge and Dreads(Busta Rhymes) are.<br /><br />There's a lot of material in this film which almost offended me or made me giggle. Some of it is as follows below.<br /><br />Fudge and Dreads are stated as students at the Columbus University yet we never see them in class and it is completely unclear how they pay their tuition. One is only left to speculate that the weed they smoke has something to do with their finances. Though they are students at what looks like a private university, they cannot utter a single line of proper English. Their characters are developed only through their compulsive whining and xenophobia.<br /><br />It appears that drunken Kristen(Kristy Swanson) knew exactly why drunken Billy was taking her to his house. She even asked him to get a rubber so that they could begin. The fact that he penetrated her without a condom became a rape whilst it would be great sex only if he had one handy. Later Kristen was assured by Taryn(Jennifer Connely) that she holds no accountability in that matter, and despite willfully jumping into a guy's bed she wasn't ready for sexual intercourse and was viciously taken advantage of by a sexual predator. Then a week or so later she met, and slept with, an ultra-sensitive do-gooder who knew how to avoid raping and brought a condom. The director stressed contraception thoroughly.<br /><br />This movie is complete and utter garbage that makes black people look like pricks and women look stupid and frail. Cole Hauser's acting, and Laurence Fishburne's accent are the only reasons I can think of to watch it. The writer/director is obviously a man of limited intelligence. Go ahead and limit your own by watching this crap if you want, but keep in mind that neurons don't grow back. Just follow the advice at the end and UNLEARN.\n",
      "* * * * * * * * * \n",
      "2607\n",
      "A call-girl witnesses a murder and becomes the killer's next target. Director Brian De Palma is really on a pretentious roll here: his camera swoops around corners in a museum (after lingering a long time over a painting of an ape), divvies up into split screen for arty purposes, practically gives away his plot with a sequence (again in split screen) where two characters are both watching a TV program about transsexuals, and stages his (first) finale during a thunderous rainstorm. \\Dressed To Kill\\\" is exhausting, primarily because it asks us to swallow so much and gives back nothing substantial. Much of the acting (with the exception of young Keith Gordon) is mediocre and the (second) finale is a rip-off of De Palma's own \\\"Carrie\\\"--not to mention \\\"Psycho\\\". The explanation of the dirty deeds plays like a spoof of Hitchcock, not an homage. Stylish in a steely cold way, the end results are distinctly half-baked. ** from ****\"\n",
      "* * * * * * * * * \n",
      "3489\n",
      "I won't say this movie was bad, but it wasn't good either. I expected something good but I guess Hum Aapke Hain Kaun was much better than this. This was completely old fashioned. At every stage of this movie, I hoped for some twist and what do I get? The girl gets burned and wins her aunt's love. <br /><br />Despite of being engaged, they have to take permission for every little move they make. They are so darn shy even after so many meetings. I expected the aunt to be much more brutal than that. All she did was crib madly. <br /><br />Hey, we have kids too, but we don't watch them and have tears in our eyes always. This movie is a dream. Happy family, one cruel woman, good in-laws and a man who loves her to death. In HAHK Anupam Kher was the poor bride's father and now it's vice versa. And I somehow knew that Mohnish Behl would be in this movie. Anyway I believe I wasted my time. I give it a 2/10.\n",
      "* * * * * * * * * \n",
      "3540\n",
      "Well, because I'm a musician I thought, maybe I'll check this movie out on TMC, nothing else good on. One of the worst mistakes of my life so far, and it's only half done. I seriously thought it was one of those soft core movies with crappy plot and crappy acting, crappy filming and crappy effects. But nope, I don't even get the pleasure of that. Even the \\musicians\\\" weren't very good. I was hoping for maybe some laughs, but I wasn't sure if they were attempting to throw in one-liners or not. But now I have to sit here and watch the rest just until Pulp Fiction starts. Or maybe something better. And now i get to sit here typing until i have 10 lines\"\n",
      "* * * * * * * * * \n",
      "3569\n",
      "If utterly facile, regressive, self-indulgent, anti-establishment, anti-civilisation juvenilia appeals to you, then this is the ideal film. Very poorly scripted, with often inaudible dialogue and infuriatingly tiresome hand-held camera throughout, this is a film that presents the world in appealingly simplistic, Manichean terms: all adults (especially teachers, parents, priests and doctors) are insensitive and bumbling at best, and predatory monsters at worst. The only escape from the horrors of civilisation as a whole is plenty of primal screaming (yawn) and infantile regression (literally) in a primitive cave-like space in the woods, with utopia taking the form of a rave party - again, in the woods (naturally...). Displays all the weaknesses of a first film, and plenty more besides.\n",
      "* * * * * * * * * \n",
      "3800\n",
      "What made the French Connection work so well was the relationship between Doyle (Hackman) and Russo (Scheider). In this catastrophe directed by Frankenheimer (who also brought us such gems as Raindeer Games and the Island of Dr. Moreau) the movie focuses on Doyle and his singular obsession of capturing Charnier (Rey). The fictitious idea that the NYPD would allow Doyle to travel to Marseilles to find Charnier with the help of the French local authorities is laugh out loud funny. Correct me if I'm wrong, but didn't Charnier skip town with 65 pounds of pure smack!!! A street value of 32 million but yeah, let's send Doyle to find this guy, it was his pinch after all. Please!!! The story was weak. The acting was terrible (with the lone exception of Hackman, who completely overplayed his part). The direction was all over the place. Even the cuts between scenes were terrible. Do yourself a favor and watch the first installment twice and skip this one.\n",
      "* * * * * * * * * \n",
      "4234\n",
      "The same difficulty I have with the musical version of \\Les Miserables\\\" applies equally to \\\"Oliver.\\\" Instead of the composers' writing in the stylistic period of the play settings, they merely wrote Broadway-type melodies, which were historically unidiomatic and stylistically skewed.<br /><br />Too, the blatant brutality and unsavory activities of the dramaturgy do not mix well with some of the sunny ditties which permeate the score. It's a uncomfortable mixture that leaves a decidedly sour undertaste.<br /><br />The casting of the boy Oliver doesn't help matters: tentative of timbre and vexingly precious, there's something less than solid here. Fagin performs his traditional routine adequately, though the tunes he's obliged to sing have little basis in period manner.<br /><br />\\\"As Long As He Needs Me\\\" is given a strident rendition, throaty and strained. The two big production numbers, \\\"Who Will Buy\\\" and \\\"Consider Yourself\\\" seem over-produced, with everything but the kitchen sink thrown in. It's one thing to go all out, yet another to cross over the line into excess. <br /><br />The gloom, despair and depravity of much of the novel does not seem to lend itself to such ditties and choreography. While the novel is considered a classic, I must confess I have trouble with Mr. Dickens' consciousness, in that his works tend to emit a negative vibration. This may be due to the extension of his joyless personal life, which was full of disappointment and regret. <br /><br />Not all the combined talent of this production, either on- or behind camera, can overcome the unconstructive nature of the basic material. All this results in an uncomfortably downer experience for me.<br /><br />\"\n",
      "* * * * * * * * * \n",
      "4383\n",
      "Unless you are an Evangelical Christian then make like an Egyptian and avoid like the biblical plague.<br /><br />Awful - why oh why does IMDb list the most favourable reviews at the top of the list - it was due to one of these that I have just wasted the end of what started out as good evening on this claptrap.<br /><br />The plot premise started out strong enough - I was drawn into the film and was interested right up to the point where the Bible sermons took over. What a waste.<br /><br />This film has so incensed me that I have registered with IMDb for the first time just to complain about it - I hope at least that by doing so I save someone else's evening.<br /><br />Hay - what a Christian act on my part ;-)\n",
      "* * * * * * * * * \n",
      "4430\n",
      "This film takes what could have been a good idea, a mummified 2000 year old witch and completely destroys it. Nora and Jim are alcoholics who go to Ireland to dry-out. They go to stay with her Nan and Uncle. The uncle has discovered a 2000 year old witch preserved in the peat. He revives her and she takes the form of Nora. She cannot be killed conventionally,(more is the pity). Nora, however, works out a way to do so.<br /><br />This is a Gothic horror movie that has been done on the cheap. It is a sprawling mess. I have to ask why anyone would want to make such a bad film. I am tempted to learn witchcraft in order to make it disappear.<br /><br />AVOID AT ALL COSTS\n",
      "* * * * * * * * * \n",
      "4608\n",
      "WHITE CHICKS Hold on, why couldn't they have dressed as Black Chicks, oh yeah, they wouldn't look different at all. Can anyone give me one Wayans movie where they haven't dressed up as ladies? Don't Be A Menace doesn't count, Jack White and Michael Costanza ghost wrote that (the other Norton Trio members acted as Directors).<br /><br />In White Chicks, there's never really any jokes. It's just the Wayans acting like girls for 2 hours. There's no setups, no punchlines and no laughs. There is a lot of \\I think I'm gonna play some Time Crisis 3.\\\" At least for me there was (5 times to be exact).<br /><br />Somebody has to tell Kenan Ivory, Damon, Marlon, Shawn, Damien (the only talented one), Kim, Rakeesha, George W., and Osama Bin Wayans to stop making movies. Its only hurting the O-Zone layer.<br /><br />VERDICT 1/2* out of ****\"\n",
      "* * * * * * * * * \n",
      "4627\n",
      "There was such a hype about a game show with Bill Shatner...and especially right in the wake of Deal or No Deal and 1 vs 100. So, of course everyone had to tune in to see what all the fuss was about on the new game show. What a disappointment! As Ben Stein so stoically and nasally says, \\wooww\\\".<br /><br />The only thing likable about this show was the fact that you knew it would eventually be over. Sitting through a full hour of it was like going to the dentist...you find yourself looking at the clock in what you think are 10 minute intervals, only to find out that only a minute has passed (but seemed like an eternity) since you last glanced at the clock. So, why didn't I just switch the channel? Well, probably for the same reason most other people didn't...out of sheer optimism. I mean, no one really *wants* to think that a show with Bill Shatner could actually be SO BAD.<br /><br />Personally, from the first 15 minutes, I never thought this was the kind of vehicle that would showcase the talents of William Shatner. My chief complaint was that the set was so dark. Watching it left me feeling depressed. You kept on wanting to get ahold of a little excitement, but there was just none to be had. There was not even enough light on the set to get a feel of energy from the audience (who you couldn't even see).<br /><br />Dear Network: People do not watch game shows to cure their insomnia...they watch game shows to be excited and have a good time. Please do us all a favor and lose this in the vault.\"\n",
      "* * * * * * * * * \n",
      "4826\n",
      "Goodnight, Mister Tom begins in an impossibly exquisite village in the south of England where the sun always seems to shine. Before we have much idea of the period we hear a radio announcement of the declaration of World War II. Soon a train blowing clouds of steam brings refugee children from London and when shy little William is billeted with reluctant, gruff old Tom (who you just know will turn out to have a heart of gold) our tale begins.<br /><br />And what a load of sentimental claptrap it is. In fact it's just the old odd-couple buddy formula. Aren't any new stories being written?<br /><br />As I suggested there's hardly any period feel in the village and not much more in London apart from the odd old ambulance rattling around. And certainly no hint of the horror of the Blitz as London's citizens file politely into air-raid shelters. Even when the local schoolteacher's husband is declared missing presumed killed, he is later restored to life.<br /><br />I found `Goodnight, Mister Tom' cliched and obvious and John Thaw's accent conjured up a picture of Ronnie Barker of the Two Ronnies with a straw in his mouth doing his `country bumpkin' accent.<br /><br />Incidentally my wife enjoyed this movie for all the reasons that I disliked it and looking at fellow-imdb reviewers I seem to be in a minority of one.<br /><br />\n",
      "* * * * * * * * * \n",
      "4933\n",
      "I wouldn't rent this one even on dollar rental night.\n",
      "* * * * * * * * * \n",
      "5412\n",
      "Perhaps the worst thing about Carlos Mencia's comedy is that every joke needs to be followed with an insult at the people in the crowd that aren't laughing. If there's anybody who's insecure, it's a comedian who won't shut up about his audience.<br /><br />Then again, perhaps the worst thing about Carlos Mencia's comedy is that he doesn't get off his free speech high horse. If you want to be funny, just make a joke, don't explain all the reasons why you're saving the American way with your failed attempts at generating laughter.<br /><br />Hmm... actually... the worst thing about Carlos Mencia's comedy is that it substitues meanspirited jabs at ethnicities for legitimate humor. Avoid this like the plague.\n",
      "* * * * * * * * * \n",
      "5519\n",
      "Creep - \\Your journey terminates here.\\\" Some very graphic scenes and...well, yeah, that's about all for this film.<br /><br />No real plot, no storyline. No likable characters, well, 'characters' isn't correct considering you don't have a clue who anyone really is. I mean, they are being chased by some weird looking 'thing' in the sewers (who is this thing? why is he there?), that's quite scary I guess, but do I really care? No, I don't. Why don't I? Because I don't have a clue who these people are and I don't know if I should want them to live or die. It's one dimensional and relies upon gore and sound effects to scare you, which it rarely does.<br /><br />This film lacks any meaning, any purpose. It feels like I fell asleep and missed out the 45mins of build up. It jumps right into the action. Basically, some women and her friends get locked in the London Underground, get chased by a weird creature, then they eventually escape from it.<br /><br />Creep has its moments which make you jump, the art is good, the location is excellent and the sounds are OK, but that isn't what makes a decent horror film, so unfortunately all that goes to waste.<br /><br />It's nothing new. Another predictable modern 'horror', where Kate (the lead 'character') consistently does the stupid \\\"hey, I know you lot sitting at home think I should do the sensible thing in this situation, but, oooh no! I'm going to do the total opposite because I'm a dumb blond\\\" thing. I wish they wouldn't do that, it's done so many times, it's boring and gets predictable. In fact, I'm pretty annoyed the silly woman didn't get stabbed by the, erm, grey alien-looking creature.<br /><br />\\\"Your journey terminates here\\\" is the films tag line. Well, Creeps journey terminates only a short while into the film. If you've had a few beers, got a couple of mates back at yours,then sure, watch it by all means. But if you want something original and clever, avoid.\"\n",
      "* * * * * * * * * \n",
      "5693\n",
      "they have sex with melons in Asia.<br /><br />okay. first, i doubted that, but after seeing the wayward cloud, i changed my mind and was finally convinced that they have sex with watermelons, with people dead or alive. no safe sex of course. the (terrifyingly ugly) leading man shoots it all into the lady's mouth after he did the dead lady. never heard of HIV? guess not.<br /><br />the rest of this movie is mainly boring, but also incredibly revolting. as a matter of fact, in parts it got so disgusting i couldn't take my virgin eyes off. sex with dead people! how gross is that? and what's the message behind it all? we need water, we need melons, we need to be dead to have sex? sorry, but this stinks!\n",
      "* * * * * * * * * \n",
      "5744\n",
      "This movie is NOT funny. It just takes the D&D nerd stereotypes and amplifies them. All the main characters make less than 30k a year, they all live with their parents, they're all socially retarded, and they have no luck with women. The jokes are horrible and unimaginative, such as two of the gamers getting beat up by a black midget because one of them had a KKK looking hood on (it was his wizard costume) and the other guy had on a John Rocker warm up (oh how funny, he's a nerd so he doesn't know about sports). You may have to be a childish high-schooler to find any of this stuff funny. Poorly done mockmuntaries are so painful to watch, but obviously extremely cheap to make. I feel sorry for Kelly LeBrock and Beverly D'Angelo. I guess these are the only opportunities available for hotties way past their prime.\n",
      "* * * * * * * * * \n",
      "5763\n",
      "Although this is generally a cheesy jungle-adventure movie, it does have some highlights - the settings are quite beautiful, and the pacing of the adventure is good. You won't be bored watching it.<br /><br />Keith is as breezy as possible playing the eponymous lead, an unabashedly drunk jungle guide shanghai'd into escorting rich boy Van Hoffman and his gorgeous wife Shower on a hunting expedition in cannibal country. He never takes things seriously . Shower is there as decoration and Keith makes extensive use of her - she doesn't really have to act much. She's not the only female to show off her body and the prurient aspects of the film make it about halfway to a T/A picture.<br /><br />There's nothing in this film that would draw specific attention to it, or away from it. Produced to be shlock, it succeeds without too much fuss. A good 2 AM cable programmer.\n",
      "* * * * * * * * * \n",
      "5946\n",
      "Last week, I took a look at the weekly Nielsen ratings, and there was Veronica Mars, supposedly \\the best show you're not watching\\\".<br /><br />Well, they're right that you're not watching it. It aired twice and was ranked 147 and 145 out of 147.<br /><br />Translation: this is the lowest-rated show on any nationally broadcast network... and deservedly so. I tried to watch it a couple of times because of all the press coverage hyping it as a \\\"great\\\" show, a \\\"realistic look\\\" at life and all such nonsense. The reality was otherwise. Veronica Mars is a bore. It's as unrealistic as it gets, and it richly deserves to be canceled.<br /><br />The only Mystery is why CW felt compelled to put on its inaugural schedule the lowest-rated show in memory, after two years of continued commercial and artistic failure.\"\n",
      "* * * * * * * * * \n",
      "6118\n",
      "Here is one of those educational short films made to learn the unknown people out there about facts of life. This time the target audience is preteen girls, the fact of life is menstruation. This animated film, created by Walt Disney Pictures, apparently with some sponsoring from Kotex.<br /><br />It starts with explaining how hormones make you grow and develop. With the help of animation and a female narrator it shows us how the body, especially the ovaries, uterus and vagina, work and why this all leads to menstruation. It is almost amazing, becoming the comic note here, how the subject of sex is avoided. Even the word is never mentioned although \\furtilized\\\" will pass once. I don't really know why I saw this, but since it is one of those rare short films that could give an impression of an innocent time, you might want to give it a try.\"\n",
      "* * * * * * * * * \n",
      "6141\n",
      "When anti-bush jokes get really easy to do, a show like this had better make sure it has something extra. When that something extra is kid versions of political figures making jokes about the future they don't have yet, it's just plain nonsense. Dick Cheney and George Bush are done well but Dick Cheney mutters mostly. There's also Condoleeza Rice who has a crush on Bush for some reason and Donald Rumsfeld who isn't really that similar to Donald Rumsfeld at all. The democratic characters rarely give their names so it's a mystery as to who could be who aside from Barack Obama and Hilary Clinton.<br /><br />The episodes have coherent stories but that's not nearly enough to keep this from sinking.\n",
      "* * * * * * * * * \n",
      "6323\n",
      "By my \\Kool-Aid drinkers\\\" remark, I mean that these are such devoted fans of the man Pavarotti that they make no attempt to objectively rate this film. Giving this a 10 is akin to giving Wally Cox the award for Mr. Universe or putting a velvet Elvis painting in the Louvre!!! When this film debuted, I remember the savage reviews with headlines such as \\\"No, Giorgio\\\" and some said it was among the worst films ever made. This is definitely overstating it as well. While bad and far from a great work of art, there was a lot to like about the film and the movie's biggest deficit was not the acting of Pavarotti nor his girth.<br /><br />Believe it or not, the brunt of the blame rests solely on the shoulders of the writers (who, I believe, were chimps). It is rare to see a movie with such clichéd dialog or goofy scenes like the food fight, but even they aren't the heart of the problem. The problem is that the writers intend for the audience to care about a \\\"romance\\\" that consists of a horny married middle-aged man and a seemingly desperate lady. Perhaps European audiences might be more forgiving of this, but in the United States in 1982 or today, such a romance seems sleazy and selfish--especially when Pavarotti tells Harrold that he loves his wife and \\\"this is just fun\\\". Wow, talk about romantic dialog!! Sadly, if they had just changed the script a little bit and made Pavarotti a widower or perhaps had his wife be like the wife from a couple classic Hollywood films, such as from ALL THIS AND HEAVEN, TOO or THE SUSPECT (where the wife was so vile and unlikable you could forgive the husband having an affair or even killing her). Instead, she's the loving mother of two kids who waits patiently at home while her egotistical hubby beds tarts right and left--as Pavarotti admits to having had many affairs before meeting Harrold.<br /><br />Sadly, even the gorgeous music of Pavarotti couldn't save this film. Towards the end of the film, there are some amazing scenes in New York where the set is just incredible and Pavarotti's singing transcendent. For that reason, I think the movie at least deserves a 3. I really wanted to like the film more, but it was a truly bad film--though not quite as rotten as you might have heard.<br /><br />Sadly, from what I have read, this film might be a case of art imitating life, as Pavarotti's own life later had some parallels to this film, though this isn't exactly the forum to discuss this in detail.\"\n",
      "* * * * * * * * * \n",
      "6389\n",
      "You could say that the actors will make a movie, but this clearly proves that statement wrong. Most of the characters in this film lack anything to hold on to. They play the part of cardboard cut outs being moved about in predictable and uninteresting ways. The story is very simple. It could be summed up in a few words, but I'll hold back in case anyone reading does want to see this film.<br /><br />I had to fast forward the parts where Jack showed us how to be an obnoxious eater. I'd have to say that 70% of this film revolved around cooking, eating, or getting ready to eat. Quite frankly, I'd rather not spend my time watching Jack chew noisily with an open mouth. Personally, I could have done without the footwear references and jokes that pepper the first half of the film too.<br /><br />Outside of my own personal dementia, the film really lacked anything worth it's time. There were countless scenes and camera shots that felt like it was dragging. When something happens, the reactions of the characters are vague and dry.<br /><br />Best not to look this one up.\n",
      "* * * * * * * * * \n",
      "6396\n",
      "I've been largely convinced to write this review for a number of reasons:<br /><br />1) This is, without doubt, the worst film i've ever seen 2) Unless it gets more reviews it will not be listed in the all time worst films list - which it deserves to be 3) I was kinda lucky - i paid five pound for it. i've seen it in shops for 15 pound. DON NOT PAY THAT MUCH FOR THIS FILM! You will be very angry 4) There are a lot of films out there in the horror genre that are not given a fair rating (in my opinion) and giving this film a higher rating than them is criminal<br /><br />The plot summary: a guy with no friends meets a tramp who promises the world - well, the magic ability to appear to everybody else like somebody else. Our hero cunningly turns into a teenage girl and joins their gang - sitting on swings, baby-sitting. He kills them one by one until he is tracked and found by the police.<br /><br />Why is it so bad? To begin with the acting is VERY VERY bad. Someone else compared it to a school production. No, this is worse than any acting i've seen on a school stage.<br /><br />I've bought a number of these previously banned films from the DVD company vipco and not been as disappointed as i was at this. okay, the acting is bad but the film fails to deliver in every other sense. What was the point in making this film when there isn't even any gore! okay, no gore. What else can a film like this offer? Breats? No, not even any titillation!<br /><br />it's true this film may have a certain charm in its unique naffness but any potential buyer/watcher of this film should be fairly advised that this film is, at best, worth only one out of ten.\n",
      "* * * * * * * * * \n",
      "6397\n",
      "As far as the movie goes, it's an OK science fiction movie. It has a lot of cool stuff in it, and some quality scenes. That said, it's not that good, and some of the stuff is pretty far fetched...<br /><br />As for calling this another cube-movie is utter and complete bullsh!t. This is the very definition of milking a great and inventive original movie... The whole feel to it can be somewhat translated into the core of the first, but the introduction of people/androids as part of the \\team\\\" behind the cube itself is somewhat a stretch...<br /><br />I gave this a 3*** because of the backstabbing of the original. This one should have been kept sterile in so many parts of the movie that there is no place or time to mention them all...<br /><br />Watchable for those who have not seen Cube & Hypercube, but not recommendable for fans of the series...\"\n",
      "* * * * * * * * * \n",
      "6552\n",
      "With a title \\borrowed\\\" from Werner Herzog and liberal helpings of Kubrick, Haneke and Noe it is painfully obvious that Thomas Clay considers himself a cut above the usual sort of rubbish our British cinema churns out. \\\"Robert Carmichael\\\" (for short) sets itself up as a realistic study of youthful alienation and at the same time seemingly a critique of the Iraq war. The problem with the realism is that the characters are so patently unrealistic and atypical - contrary to the fetid imaginings of \\\"extreme\\\" filmmakers most teenagers are not drug addled rapists. As a critique of the Iraq war, a film about youth violence (by a talented classical musician - subtext society has damaged this sensitive individual)is so infantile as to hardly bear thinking about. There are signs of technical ability but some reviewers have overstated this. Like Kubrick and Noe he does show that the desire to shock linked with supposed serious intent may be the worst cinematic con trick of recent film. People liked \\\"Clockwork Orange\\\" and \\\"Irreversible\\\" because they liked the rapes and the violence, but most of all they liked feeling culturally superior for liking things that most hated. So too much Kubrick and not enough Haneke (a serious and moral filmmaker) here labels this as one of the most moronic films in years. (I am not against violence in film. To do it seriously is a hard trick though - people in cinemas cheered Alex in \\\"Clockwork Orange\\\" showing how Kubrick's supposed intent was missed by miles. Gratuitous violence is much easier to achieve and is less offensive than the pretensions of many art-film directors.)\"\n",
      "* * * * * * * * * \n",
      "6557\n",
      "The story goes something like this: A small-town girl, Katie (Jessica Simpson), decides to visit her boyfriend in the big city. When she arrives she discovers he isn't quite as faithful as he should be. Katie then ends up venturing into the adventure that is New York. Filling in as bike messenger comedic and charming mishaps ensues. She falls into a hole in the ground and thus meets charismatic good-guy Ben (Luke Wilson). It's not love at first sight, at least for her, but destiny and Ben, won't give up quite that easy. Being \\just\\\" a small-town girl AND blonde a couple of evil executives at a building firm decides she's the perfect scapegoat for their cunning plan. Misunderstandings with hilarious and sad consequences follow. However, this is one blonde who won't take it lying down!<br /><br />People being judgmental of this film will soon enough be proved wrong. The jokes are confident and fitting, and the story well developed. The relationship between Katie and Ben feels so natural that it puts anything Godard has created to shame. The multi-talented Jessica Simpson once again surprises with a strong role only she could pull off. Simpson really is the Marilyn Monroe of our day (there's even one scene honoring her!). She balances perfectly between vulnerable and whimsy. Katie really does show us that you can't judge a book by its cover! Luke Wilson is as charming as ever. Even if he was covered in manure that man would be as appealing as anyone. His light touch, puppy dog eyes and laid back manner makes it difficult to resist. Andy Dick plays the role he was born to play, one of the two diabolical executives. He really cannot be underestimated. The strength of the performance lies in his restraint. It's remarkable, because most actors would just run away with it and play it for cheap laughs. Not this guy! <br /><br />In conclusion, director Scott Marshall has crafted an intelligent and frequently hilarious comedy that is destined to become a classic alongside masterpieces of cinema like Epic Movie and Norbit. Kudos to everyone involved in this, especially Jessica Simpson. Her sincere smile and whole-hearted laughter would make even the toughest man break out in a big grin. You may be tough, but you're not THAT tough! Warmly recommended to everyone who wants to be swept off their feet and see a romantic comedy that for once, feels honest. Thank you for this film! Oh, and the soundtrack rocks! <br /><br />Now if you still haven't gotten it. I'm being sarcastic. 1/10\"\n",
      "* * * * * * * * * \n",
      "6641\n",
      "The idea had potential, but the movie was poorly scripted, poorly acted, poorly shot and poorly edited. There are lots of production flaws ... for example, Dr. Lane's daughter who never ages despite the passing years. Wait for video, but don't expect much.\n",
      "* * * * * * * * * \n",
      "6882\n",
      "The easiest way to describe this movie is as a satire. The target of the satire is quite vast, from the US Government to corporate America. It is also not a stinging satire, but rather a silly one.<br /><br />Think of this movie as a mix between the Kentucky Fried movie, Airplane and Police Squad series, done with a much smaller budget and not as funny. I can see how this movie is a satire of many sci-fi disaster movies from the 50's and 60's. I see this movie as a big influence on Tim Burton's Mars Attacks.<br /><br />The plot is simple enough. Genetically engineered giant tomatoes go \\crazy\\\" and start attacking people and cities. At first there is a cover up and then it blows over into full blown war.<br /><br />The movie runs the gamut of characters and characterizations : Lois \\\"Fairchild\\\" (a Lois Lane clone), a very ambitious Presidential Press Secretary, Clark Kent, Mason Dixon (FIA agent who hasn't worked since the Bay of Pigs), a useless President (who only seems to be able to sign his name and attack New York), an even inept Congress, a sleazy marketing CEO, and Mason's team consisting of an obese East German \\\"female\\\" swimmer, a scuba diver, a crazed WWII paratrooper and an African-American disguise expert (disguised as George Washington, Abraham Lincoln, Hitler and finally as a tomato). Did I also forget to mention, lots and lots of tomatoes? There are all kinds of tomatoes from small tomatoes, to giant plastic tomatoes, to smashed tomatoes, to tomato juice and finally to people dressed up as tomatoes.<br /><br />On top of all this, you have a couple of musical numbers as well. They aren't that good and seem to be dubbed. The best tune is by far the theme of the movie (\\\"Attack of the Killer Tomatoes\\\"). It is way too catchy and you might end up humming or singing it in public. Be warned.<br /><br />Most of the movie is quite amusing and shows the absurdity of various real life situations as well as various entertainment genres. I don't believe I was induced to laughter, but mostly smiled and scratched my head. I definitely recommend this movie for fans of B and C grade movies, but only as a rental.<br /><br />-Celluloid Rehab\"\n",
      "* * * * * * * * * \n",
      "6929\n",
      "What made the idea of seeing this movie so attractive was the hope that it would live up to Charlotte Bronte's brilliance of the original classic story. I was deeply disappointed to find that this movie, which seemed to be either written or filmed in great haste, had not the qualities that made the original novel so powerful. Much of the witty back and forth between the main characters, Jane Eyre and Mr. Rochester, seemed to be either missing from the screenplay or left on the cutting room floor. Also missing was Jane Eyre's charismatic sense of self, which enabled her to suffer through her turmoil and triumph over all. The original Jane Eyre was a hero. The woman in this movie did not seem to have much to triumph over, including one of the greatest parts of the story when Jane runs away from Thornfield and Mr. Rochester. Her struggle to find food and shelter, her shame at having to beg for bread, the threat of freezing to death in the cold, all to get away from a man she loved were, in my opinion, poignant parts of the story that were simply left out of this movie. The title character seemed dry and uninspired. The story was unappealing and for those who did not read the book, I cannot imagine that this story would be the least bit interesting. The screenplay and Direction did little if any credit to the classic story.\n",
      "* * * * * * * * * \n",
      "8638\n",
      "If he wanted to be accurate, he should have chosen some Frisco natives and not a bunch of NY actors who know nothing about the Sucka Free (not Sucker Free). I've lived in SF my entire life, and folks here do not talk or act the way these actors did. Everything was over-dramatized, and the only cat I saw from the Bay was JT the Bigga Figga with his little cameo as a rapper. No shock that he was the only one in the film who really dressed like cats out here (ie his Warriors jersey). Not once did I notice anyone wearing any Giants or 9ers gear; instead he fitted them in some cheesy made-up SF or Oakland jerseys that aren't even sold around here. HP has no bowling alleys, black and Asian gangbangers do NOT wear head or wristbands with the colors of Africa or China's Olympic team, nor does every Chinese gangster wear a Yao Ming jersey and try and sound black while shooting hoops. Further, while there now is a significant yuppie community that has invaded the Mission, all that was shown was some white dude and a self-proclaimed \\100% West Coast Boriqua.\\\" This is NOT New York! Puerto Ricans here are few and far between, and the Latinos in the Mission are very, very different from the ONE that was shown here, who was without a doubt from NY. Also, HP is not the only black neighborhood in the City. An accurate depiction would have shown the drama between HP sets in their own hood as well as vs. Fillmore, Sunnydale, Lakeview, etc. <br /><br />This film could've been much better if Lee had done some more homework and had a better storyline to work with.\"\n",
      "* * * * * * * * * \n",
      "8789\n",
      "This film had such promise!! What a great idea, an underdog paintball team struggling for recognition and personal glory, only to lose it's speed due to bad dialoge, poor editing and a half-written story. The characters in the beginning were interesting, only to lose steam half way through to become one dimensional people sputtering out tired one-liners.<br /><br />Maybe if they spent some more time on the story and dialoge it would have been a great movie, instead of a almost afterthought effort.\n",
      "* * * * * * * * * \n",
      "8995\n",
      "I am still shuddering at the thought of EVER seeing this movie again.<br /><br />I have seen action films, I have even liked quite a few of them, but this one goes over the top.<br /><br />Not only does it have the worst male actor ever (Sly Stallone) playing the lead role, but the plot of the movie is so stupid from the beginning (why not rob the money while the plane is on the ground, would be hell of a lot easier) that it requires a person with IQ less than his shoenumber to believe it. <br /><br />Furthermore, the plot has no real twists at all, a three year old kid could guess what comes next. It is a set of cliches (of action genre), with Sly performing even worse than his other movies (he was better even in Rambo III if you watch that movie as a comedy rather than action film). Now there is an actor who can't act A) surprised B) sad C) anything else than his basic face. <br /><br />I would still like to point out that this movie has two factors that might make some people like it. EXPLOSIONS are outstanding, but then... you can see better on the 4th of July. LANDSCAPES are magnificient, but then... there are documentaries about the Alps and Himalayas, so you can see better sights that way, rather than waste time on this flick.<br /><br />Go watch some other movie instead, there are hundreds, even thousands better action movies.\n",
      "* * * * * * * * * \n",
      "9093\n",
      "Thank G_d it bombed, or we might get treated to such delights as \\Skate Fu\\\" where we can see the likes of Brian Boitano performing a triple lutz & slashing bad guys to ribbons with his razor-sharp skates, but I digress. One thing that could have helped this turkey would have been a little T & A from Ms. Agbayani. It's not like the world would have seen anything new (at least that part of the world who saw her Playboy spread.) I truly believe that porn would have suited her 'talents' much better, although Aubrey Hepburn couldn't have stayed afloat in this sewer. One explanation for Kurt Thomas' presence could be a traumatic brain injury, possibly from coming up short too often on dismounts. It's a good thing the IOC wasn't as diligent on 'doping' as they are now, or Kurt would surely have been stripped of his medals. To be avoided at all costs.\"\n",
      "* * * * * * * * * \n",
      "9621\n",
      "I thoroughly enjoyed A Man Called Horse when it was released in 1970, but Return played like a typical sequel. Everything about it -- budget, script, plot, casting, and acting -- was inferior to the original. Gale Sondergaard as Elk Woman, an elder of the Yellow Hand tribe, looks nothing like an Indian, and neither do half of the other \\Indians,\\\" who were played by Italians, Mexicans, and Latinos with cheap wigs. And the old guy who played the chief acted more like a fat old squaw than a fierce leader of warriors. He even used the bow like a woman! Finally, Richard Harris, who did such a superb job in the original, seems to be coasting this time around. I guess he couldn't resist the easy paycheck he got for reprising his role as Horse.<br /><br />To be fair, there are some interesting moments in the movie, such as Horse's undergoing a painful purification ritual to \\\"find his vision\\\" and rally the Yellow Hands against their Indian enemies and white oppressors, but on the whole, Return is uneven, boring, corny, and predictable -- just like most sequels.\"\n",
      "* * * * * * * * * \n",
      "9695\n",
      "Drew Latham(Ben Affleck)is determined not to be lonely this Christmas. Not only is Drew a millionaire; but also obnoxious and guilty of being very grandiose. Drew goes back to the home he grew up in and offers the family living there, the Valco's, $250,000 to be his \\family\\\" through the Christmas season. Tom Valco(James Gandolfini)is reluctant, but is greedy enough to take Drew's offer. Christine Valco(Catherine O'Hara)has little to say in the matter, but learns to like having Drew around...not exactly the same sentiment with daughter Alicia(Christina Applegate), but that too has room for change. Drew's girlfriend Missy(Jennifer Morrison)tracks down Drew and wants her folks to meet his family. Genuine fun is in store as a happy Noel becomes a hilarious dysfunctional nightmare. Other members of the cast: Josh Zuckerman, Bill Macy, David Selby and Stephanie Faracy. Affleck is comedic, albeit strange.\"\n",
      "* * * * * * * * * \n",
      "9699\n",
      "I first learned of the Wendigo many years ago in one of Alvin Schwartz's \\Scary Stories\\\" books: according to that story, the Wendigo - after calling your name in the wind - drags you along, and then pulls you up into the sky and pulverizes you. While it sounds like a pretty bizarre notion, Schwartz's story turned it into a fairly coherent idea.<br /><br />The movie \\\"Wendigo\\\" doesn't. It basically consists of every horror flick cliché: family moves to new house and strange things start happening, anyone who harms them is asking for it, and everyone had better listen to the old Indian guy. I've seen this stuff so many times that I no longer bother to count.<br /><br />Anyway, avoid it. Patricia Clarkson and Erik Per Sullivan (Dewey on \\\"Malcolm in the Middle\\\") have done far better than this.\"\n",
      "* * * * * * * * * \n",
      "9881\n",
      "Perhaps one of the most overrated so-called horror classics ever made, Halloween does feature the memorable Michael Myers and some great acting by Jamie Lee Curtis.<br /><br />However, its rewatchability factor is very close to zero, as there is an unforgivable amount of time spent on dullness/culmination to the actual events.<br /><br />This is the sort of movie you can walk away from to microwave popcorn and not miss anything at all.<br /><br />How it spawned so many sequels, I will never comprehend.<br /><br />Thank God Rob Zombie is remaking this. And generally, I hate remakes.<br /><br />Surely he will more than compensate for all the random time-filling gaps with some quirky points of interest that the original severely lacks.<br /><br />This is a movie we feel we have to like, much like the way we're taught that we SHOULD enjoy Dickens.<br /><br />Don't assume this is a classic.\n",
      "* * * * * * * * * \n",
      "9898\n",
      "The Ladies Man is a funny movie. There's not much thought behind it, but what do you expect from an SNL movie? It's actually better than most SNL movies (i.e. Superstar or A Night At The Roxbury) Tim Meadows and Will Ferrell were both very funny. Chris Parnell was also funny in his short scene (one of the funnier ones in the movie). Other than that, the rest of the cast is average and is just there to support Meadows. I've definitely seen funnier movies, but I've seen dumber ones too. Again, it's not exactly a deep movie, but it's good for a few laughs. It was funnier as a skit though. But still, if you're looking for a pretty funny movie, I'd recommend this one. Just don't think about it too much, or you'll hate it.<br /><br />Rating: 6/10\n",
      "* * * * * * * * * \n"
     ]
    },
    {
     "name": "stdout",
     "output_type": "stream",
     "text": [
      "9949\n",
      "OK I'm not an American, but in my humble Scottish opinion Steve Martin is not, never has been, and never will be a funny man as long as our posteriors point in a southerly direction. Phil Silvers as Sergeant Bilko was a funny man, no doubt due to the skilled writers and directors and all the other talented team working characters in the series who contributed perfectly to one of the funniest and dateless situation comedies America has ever produced. How anyone could have the audacity to even attempt to replicate the Phil Silvers character is beyond me. To compound things the exercise was repeated in Martin's unfunny attempt to be Peter Seller's Inspector Clouseau, another abortive attempt, in my opinion, to rekindle a demonstrably unfunny career. Some of your contributers say 'Steve Martin puts his own stamp on the character', to that I would say 'balderdash' , his portrayals will be long forgotten when those of Silvers and Sellars will be treasured for generations to come\n",
      "* * * * * * * * * \n",
      "9951\n",
      "The Second Renaissance, part 1 let's us show how the machines first revolted against the humans. It all starts of with a single case, in which the machines claim that they have a right to live as well, while the humans state a robot is something they own and therefore can do anything with they want.<br /><br />Although an interesting premise, the story gets really silly from then on with (violent!) riots between the robots and mankind. Somehow it doesn't seem right, as another reviewer points it, it's all a little too clever.<br /><br />The animatrix stories that stay close to the core of the matrix (in particular Osiris) work for the best. As for Second Renaissance Part 1, I'd say it's too violent and too silly. 4/10.\n",
      "* * * * * * * * * \n",
      "10036\n",
      "I have only recently been able to catch up with the films of Marilyn Miller since they are not shown on TCM in the UK.I have been much intrigued over the years because this was one of the superstars of the 20s.What was she really like.To some stars of this era like Jolson some of the magic still shines through,but alas not for Miller.Her dancing seems awkward and poorly choreographed,her singing somewhat limited and as an actress she makes Ruby Keeler seem like Hepburn.Even worse in this film as the public had grown tired of musicals virtually all of the musical numbers have been deleted.So we are left with a comedy of that period with little real appeal.She was being paid $500000 for this!So i have only two conclusion.Either she was poorly served by the cinema or she had no talent at all.I think that the truth is nearer the later than the former.\n",
      "* * * * * * * * * \n",
      "10051\n",
      "Horrible ending - and I can't believe Moore spent a year coming up with it. Smacks of L. Ron Hubbard and Dianetitcs, which Hubbard claimed to pen in just three weeks. This was actually disappointing enough for me to toss my discs from the first 3.5 years. Now, the first 1.5 hours were action packed, though absurd in the premise, and then it deteriorated into a slow, painful, sophomoric dissolution of the series. Unbelievable how slow and drawn out that last hour was. Were we to think more deeply? If I wanted a lesson in a-materialism, I would reread Daniel Quinn's Ishmael. Absurd to think 38K people would give up everything for a \\fresh start\\\". Absurd to throw in a disappearing Kara, and a reappearing Baltar and Six. Absurd to throw in the Mitochondrial Eve. Just absurd.\"\n",
      "* * * * * * * * * \n",
      "10097\n",
      "Is there any other time period that has been so exhaustively covered by television (or the media in general) as the 1960s? No. And do we really need yet another trip through that turbulent time? Not really. But if we must have one, does it have to be as shallow as \\The '60s\\\"? <br /><br />I like to think that co-writers Bill Couturie and Robert Greenfield had more in mind for this two-part miniseries than what ultimately resulted, especially given Couturie's involvement in the superb HBO movie \\\"Dear America: Letters Home From Vietnam\\\" which utilized little original music and no original footage, letting the sights and sounds of the time speak for themselves. This presentation intercuts file footage with the dramatic production, but it doesn't do anyone any favours by trying to do too much in too little time; like so many of its ilk, it's seen from the point of view of one family. But the children of the family seem to be involved tangentially with almost every major event of the '60s (it's amazing that one of them doesn't go to the Rolling Stones gig at Altamont), making it seem less like a period drama and more like a Cliff Notes version of the decade.<br /><br />The makers rush through it so much that there's little or no time to give the characters any character, with the stick figures called our protagonists off screen for ages at a time - the children's father is especially clichéd - and then when they're back on BLAMMO! it's something else. Garry Trudeau could teach the filmmakers a thing or two about doing this kind of thing properly. In fairness, Jerry O'Connell, Jordana Brewster, Jeremy Sisto, Julia Stiles and Charles S. Dutton give their material the old college try, but they're wasted (especially the latter two); it's undeniably good to see David Alan Grier in a rare straight role as activist Fred Hampton, and Rosanna Arquette (in an uncredited cameo in part 2) is always welcome.<br /><br />What isn't welcome is how \\\"The '60s\\\" drowns the soundtrack with so many period songs that it ultimately reduces its already minimal effect (and this may well be the only time an American TV presentation about post-60s America never mentions the British Invasion - no Beatles, no Rolling Stones... then again, there's only so much tunes you can shoehorn into a soundtrack album, right?). Capping its surface-skimming approach to both the time and the plot with an almost out-of-place happy ending, \\\"American Dreams\\\" and \\\"The Wonder Years\\\" did it all much, much better. Nothing to see here you can't see elsewhere, people... except for Julia Stiles doing the twist, that is.\"\n",
      "* * * * * * * * * \n",
      "10437\n",
      "Oh dear, this movie was bad for various reasons. I was expecting to see a very low score for this film and was a bit surprised by the over-all score.Sorry, but to rate this highly as many have, is a joke! Once you get past the one shot/black and white movie gimmick, which was a nice idea, the movie drags on, even at a run time of only 66 minutes. The credits sequence at the start was so annoying too!In the van the guys suffer a flat tyre and change the wheel, wow, that was needed in the story! How slow were the guys chasing and actually managing to wound Campbell?? They did not seem to bother continue chasing him...sigh..I am only too glad I got this free with a special Edition of Evil Dead!!\n",
      "* * * * * * * * * \n",
      "10564\n",
      "This is a review of The Wizard, not to be confused with The Wiz, or Mr. Wizard. The Wizard is a late-eighties film about a seriously silent boy's ability to play video games and walk during the entire opening credits. The Wiz is an unnecessary update of The Wizard of Oz, and Mr. Wizard is that guy that attached 100 straws together and had some kid drink tang out of it.<br /><br />Now that we've gotten all that out of the way, let me say this: there's really no reason to see this movie. It's simply a 100 minute Nintendo commercial designed to capitalize on the Powerglove, the Legend of Zelda and Super Mario Brothers 3. I use the word \\designed\\\" in the loosest sense possible, because it seems like this movie was written over a weekend by a crack team of people who had never played Nintendo, and directed by a man with less sense of style than my grandmother. Maybe if the writer and director sat down and actually played some games together, they'd realize that they were about to film total rubbish and instead go to vocational school to learn how to install car stereos.<br /><br />I hope that this has been an enlightening experience for you. It sure hasn't been for me. In fact, I think I might have lost a few braincells in the act of watching this movie and writing about it. Next time you're at the video store and you see the The Wiz, The Wizard and The Wizard of Oz all sitting there on the shelf in a pretty little row, give them all a miss and play Duck Hunt instead.\"\n",
      "* * * * * * * * * \n",
      "10583\n",
      "Yes, In 35 years of film going I have finally viewed the stinker that surpasses all other ghastly movies I have seen. Beating 'Good Will Hunting' Baise Moi' and 'Flirt' for sheer awfulness. This is pretentious blige of the first order... not even entertaining pretentious bilge. The effects are cheap, and worse - pointless.<br /><br />The script seems to have been written by a first year film student who doesn't get out much but wants to appear full of portent! The acting is simply undescribably bad - Tilda Swinton caps a career filled with vacuous woodeness with a performance which veers neurotically between comotose and laughable 'intensity'. Apparently, some fool out there has allowed the director of this film to make another one... be warned\n",
      "* * * * * * * * * \n",
      "10767\n",
      "It's not my fault. My girlfriend made me watch it.<br /><br />There is nothing positive to say about this film. There has been for many years an idea that Madonna could act but she can't. There has been an idea for years that Guy Ritchie is a great director but he is only middling. An embarrassment all round. <br /><br />\n",
      "* * * * * * * * * \n",
      "10791\n",
      "Yeah, Madsen's character - whilst talking to the woman from the TV station - is right: the LAPD IS a corrupt, violent and racist police. And this movie changes nothing about it. Okay, here are the good cops, the moral cops, even a black one, whow, a Christian, a martyr. But this is a fairy tale, admit it. Reality is not like that. And most important for the action fans: The shoot out is boring. It's just shooting and shooting and shooting. Nothing more. Play Counter Strike, then you will at least have something to do. The only moral of this film is: The LAPD is good now. No more bad cops in it. If you like uncritical, euphemistic commercials for police and military service, watch this movie. It's the longest commercial I've ever seen. (2 Points for camera and editing).\n",
      "* * * * * * * * * \n",
      "11235\n",
      "Terrible...just terrible. Probably the worst film I have ever seen. And I did see some pretty bad pictures, throughout the years. The sound sucks so does the quality of the picture, the direction, the acting...etc, etc. The only good shoots( meaning funny, because they're so bad ) are the special effects. Overall there are about 5 minutes worth of laughs. The rest of the flick gives you brain damage.\n",
      "* * * * * * * * * \n",
      "11273\n",
      "I've seen some bad things in my time. A half dead cow trying to get out of waist high mud; a head on collision between two cars; a thousand plates smashing on a kitchen floor; human beings living like animals.<br /><br />But never in my life have I seen anything as bad as The Cat in the Hat.<br /><br />This film is worse than 911, worse than Hitler, worse than Vllad the Impaler, worse than people who put kittens in microwaves.<br /><br />It is the most disturbing film of all time, easy.<br /><br />I used to think it was a joke, some elaborate joke and that Mike Myers was maybe a high cocaine sniffing drug addled betting junkie who lost a bet or something.<br /><br />I shudder\n",
      "* * * * * * * * * \n",
      "11389\n",
      "Simply put, this is the worst movie since \\Police Academy: Mission to Moscow\\\" (if you liked that movie you will probably like this one).<br /><br />What were they thinking ? Some ideas should stay just that, an idea. The fact that this idea could itself to film should be a criminal offense.<br /><br />What was so bad about it I hear you ask. One word ... EVERYTHING.<br /><br />Cost to Hire: $4.50 Cost in Time to Watch: 89 Minutes<br /><br />I want a refund on both!\"\n",
      "* * * * * * * * * \n",
      "11480\n",
      "After hearing the word of mouth of just how bad this film is I took the plunge and bought the DVD. That said everything previously mentioned about this film is true. For a film that claimed to have a budget in the millions it just does not show on the screen at all. The list of problems with the film could drag on forever. Chief amongst them is the film is simply too long. It dragged on for a few minutes short of 3 hours. Nearly an hour probably could have been cut off the run time had the editor simply removed the overabundance of scenes dealing with nothing more then the main character wandering around aimlessly. <br /><br />Secondly, as many had pointed out from the \\trailers\\\", the special effects are anything but special. The tripods looked OK in a few shots here and there but beyond that everything was grade-Z 1970's or 1980's quality. Probably the worst effects of all were the horses, which stiffly tottered back and forth as they moved. The heat ray effects were laughable, as people were reduced to bones that somehow were still able to flail about without any muscles. Also pitiful was the Thunderchild sequence, in which the Thunderchild, described in the book as an ironclad ram, looked nothing of the sort. Instead it resembled a World War 1 era destroyer, complete with deck guns (which fired but had no visible crew), and torpedo tubes. <br /><br />The colors and backgrounds were just as bad as the effects. Most laughable of all was a scene early on in which the main character and his wife go for a nighttime stroll and he points out Mars to her in the sky. Well, the sky is black, but the views of the characters and the landscape around them is broad daylight. There is also a very sharp demarcation between the real landscape, bathed in full sunlight, and the fake black night sky with overly large fuzzy stars. To detract even further, the color of the scenes made no sense. In some they are bathed in orange light. In others green light. In still others it's blue light. In some instances the outsides are orange lit but the interiors of houses are green or blue. The frame-rate and camera is very shaky, giving everything a stuttering look.<br /><br />Finally, the acting is overall sub-par. One man portrays two characters who's sole difference was one lacked a mustache. This led to some confusion at times as to who was who and where they all were. The English accents, even to American ears, are outrageous. <br /><br />In summary, this movie could very well make a claim to being the worst film released in recent times. I have not seen Gigli or some of the other recent flops but this one, because of it's poor quality in every respect, must easily be worse then anything that mainstream Hollywood has put out. I would not be surprised if the movie makes it to the bottom 10 or 20 in the IMDb rankings. It's a pity that Mystery Science Theater is not still around.\"\n",
      "* * * * * * * * * \n",
      "11655\n",
      "This movie was just down right bad. I love war movies and can normally come away from most movies and find something that I liked,but this was not one of them. This movie lacked substance and intensity.OK I get it, the Finns put up one hell of a fight and thats great, but the story is poorly told. You don't have any real connection with any of the characters and there's no real story line to follow. You just go from one random scene to another, nothing flows to form the story that is trying to be conveyed. If you want a war movie that will keep you riveted, and amazingly enough without battles scenes, then I would suggest \\Downfall\\\" (WWII German film). Or if you prefer a great story line and a lot of action then I would suggest \\\"Brotherhood of War\\\" (Korean war/Korean film). These two movies will not let you down as Winter War will.\"\n",
      "* * * * * * * * * \n",
      "11765\n",
      "Imagine pulling back the mask of a lethal assassin and finding Barbara Cartland there... that's what happens with this film.<br /><br />The opening showed promise, but soon it drops all pretenses of being a thriller (or even an imaginative love story) and the only reason they made this story becomes abundantly clear: to fill a gap in their female viewing market by creating yet another re-hash of 'mis-understood, brooding bad-boy' (Andrei) meets 'innocent, whimsical beauty' (Paula). <br /><br />Rather than waste any time in creating an original premise, the filmmakers went straight for the money-shot: the bad boy being tamed by said whimsical beauty. Thence follows a string of insincere and heavily-clichéd love scenes sprinkled with pseudo philosophical/poetic fluff. Andrei's admission of being (eponymously) a 'poet' is levered in to round out the perceived qualities a Byronic hero should have - but even when we're told in heavy, underlined writing who and what he is, it's still difficult to believe it - or care.<br /><br />For a Byronic hero/antihero to work, the story needs subtlety, style and innovation - all of which are utterly absent here. This is not a modern day Phantom of the Opera, it's just what happens when a weak and rather silly woman (with loose knicker elastic) dates a bad man, who, after meeting her, seems as dangerous as bunny slippers.<br /><br />The performances might have saved this film, had they been any good: the female lead is preoccupied with looking sexy and 'otherworldly', no matter how forced or ridiculous; and poor Dougray Scott appears to have been drugged as he shambles through his part. This is not his best work. The glimmers of interest were brought by Jürgen Prochnow as 'Vashon', and Andrew Lee Potts as the young photographer/brother. A better movie would have offed the sister and kept the brother instead.\n",
      "* * * * * * * * * \n",
      "11818\n",
      "This typically melodramatic Bollywood film has inexplicably become a favorite of Western critics. The script is ludicrous, the acting is over-the-top, and it looks cheesy. The only reasons for watching this soap opera are the wonderful songs sung by Mangeshkar and the curtain call of the legendary Meena Kumari. Watching the actress, who was ill during the filming and would drink herself to death at age 40 shortly after the film was released, has the same fascination as watching a train wreck. Her ex-husband, Amrohi, wrote and directed, but lacks the competency to execute either task well. Bollywood has produced far better films.\n",
      "* * * * * * * * * \n",
      "11890\n",
      "Ok, let me say that I didn't expect a film starring Jerry Springer to be cinematic gold, all I asked for was it to be cinematic...and it wasn't even that. It looked like someone's bad home movies. Poorly acted, scripted, and filled to the brim with nudity of the most unnattractive people I've ever seen.<br /><br />The film's \\plot\\\" focuses on a low-class family who decide to go on the \\\"Jerry Farrelly Show\\\" to discuss multiple affairs between a mother, daughter, stepfather and the daughter's fiancee. From there, the movie fizzles and develops into a unique experience: white-trash pornography. There's redneck sex, interacial sex, even sex between Jerry and his wife? (Yuk!) This film encouraged me to want to run out of the theater and get a second circumcision. At least it was mercifully short. Disgusting and degrading. African-Americans and working class America should be offended. (Howard Stern should be pleased however, he didn't squander his attempt for film stardom. His was smart, funny and entertaining)<br /><br />MY GRADE: F+ (the daughter was hot)\"\n",
      "* * * * * * * * * \n",
      "11996\n",
      "Just looking at the sets, staging and editing it is easy to tell this project lacked a proper budget. Maybe Bela Lugosi is meant to take your mind off of things like that. Young brides drop dead at the altar after saying \\I do\\\". Their corpses are stolen by a renowned horticulturist Dr. Lorenz(Lugosi)and a couple of his freakish minions as his aging wife(Elizabeth Russell)needs injections of the glandular fluids of the young virgins to remain forever young...forever beautiful. An eager local cub reporter(Luana Walters)realizes that each missing bride wore the same rare orchid to the altar; an orchid in which Dr. Lorenz would be most knowledgeable. A typical horror movie storm brews making a visit to the Lorenz estate a bit spooky; especially with a dwarf and a slobbering hunchback on the premises. Other players: Angelo Rossitto, Tristram Coffin, Minerva Urecal and Frank Moran.\"\n",
      "* * * * * * * * * \n",
      "12114\n",
      "There seems to be an overwhelming response to this movie yet no one with the insight to critique its methodology, which is extremely flawed. It simply continues to propogate journalistic style analysis, which is that it plays off of the audiences lack of knowledge and prejudice in order to evoke an emotional decry and outburst of negative diatribe.<br /><br />Journalism 101: tell the viewer some fact only in order to predispose them into drawing conclusions which are predictable. for instance, the idea of civil war, chaos, looting, etc were all supposedly unexpected responses to the collapse of governmental infrastructure following Hussein's demise: were these not all symptomatic of an already destitute culture? doctrinal infighting as symptomatic of these veins of Islam itself, rather than a failure in police force to restrain and secure? would they rather the US have declared marshall law? i'm sure the papers here would've exploded with accusations of a police state and fascist force.<br /><br />aside from the analytical idiocy of the film, it takes a few sideliners and leaves the rest out claiming \\so-and-so refused to be interviewed...\\\" yet the questions they would've asked are no doubt already answered by the hundred inquisitions those individuals have already received. would you, as vice president, deign to be interviewed by a first time writer/producer which was most certainly already amped to twist your words. they couldn't roll tape of Condi to actually show her opinion and answer some of the logistics of the questions, perhaps they never watched her hearing.<br /><br />this is far from a neutral glimpse of the situation on the ground there. this is another biased, asinine approach by journalists - which are, by and large, unthinking herds.<br /><br />anyone wanting to comment on war ought at least have based their ideas on things a little more reliable than NBC coverage and CNN commentary. these interpretations smack of the same vitriol which simply creates a further bipartisanism of those who want to think and those who want to be told by the media what to think.\"\n",
      "* * * * * * * * * \n",
      "12157\n",
      "When you look back at another bad Nightmare sequel like Freddy's Revenge, you have to at least give it some credit for trying something new. And although The Dream Child is more enjoyable it offers absolutely nothing new to the series. Yes, there's the creative deaths as usual, like a kid becoming part of a comic book and facing \\Super Freddy\\\" but even scenes like that aren't used to their full potential and the parts without Freddy are just boring.<br /><br />This marked the official death of scariness to the series. Freddy seems to be the comedic relief now...but to what?<br /><br />My Rating: 4/10\"\n",
      "* * * * * * * * * \n",
      "12199\n",
      "It is considered fashion to highlight every social evil as a result of patriarchy and male dominance, however moronic this illogical 'logic' may be. However within the story and theme of the film, there is no grey area and the woman who should be called the film's antagonist, is the ''villain of the story''. Under no circumstances can what she did be justified. Sexuality of women is just hype in this case and has nothing to do with the actuality. It is betrayal of the ultimate sort. The man ended up spending his resources and time in the wasteful raising of another man's offspring. To top it all, the most feeble of arguments raised by the 3 'liberated' female characters in the climax is pathetic. A woman's sexual needs are no excuse for her to commit adultery and continually betray her husband and worse, there are no other children. So in essence his life has been wasted. In some societies where justice still prevails, such situations result in the execution of the unjust.\n",
      "* * * * * * * * * \n",
      "12294\n",
      "I have watched 3 episodes of Caveman, and I have no idea why I continue except maybe waiting for it to get better. <br /><br />To me this show is just pumping itself off the commercials, with no real humor. As we sat around watching these shows, we all speculated on what was going to happen.<br /><br />The episode of the woman cave-woman with a attitude was actually a big, yea right, for us. she's crude in a theater and acts tough to strangers, and truth be told, she needed a slap<br /><br />I consider myself a pretty good reviewer, taking in everything, but I must say, Cavemen is comparable to the old show, My mother, the car. I give it a 2, only because they deserve 1 better than a 1 because they actually spent money on it.\n",
      "* * * * * * * * * \n",
      "12328\n",
      "Very disappointing version of Lorna Doone. Too many missing characters, no romantic scenes, changes in story line, too short, appeared low budget. Hardly enough dialogue to understand the story if you're not familiar with the novel. In some scenes it looks like Lorna has a cold sore on her upper lip. I'm sure make-up did it's best to hide it. I guess they didn't want to halt filming until it healed up, pity. Most likely why this movie lacked kissing scenes. Only one disappointing kissing scene at the very end. Lorna Doone is a great epic tale and should be told true. The 2000 version of Lorna Doone is twice as long, more romantic, much more enjoyable and more true to the book.\n",
      "* * * * * * * * * \n",
      "12470\n",
      "This movie is awful. At the end of it you will realize that several hours have been stolen from your life that you can't get back. The \\twist\\\" ending is very contrived. The character development leading up to this ending is not consistent with their final actions at the conclusion. Ninety minutes of preparation-- with the premise that the Rob Lowe character will die on Christmas Eve-- is explained away in literally ninety seconds of \\\"No we were just tricking you.\\\" Then the Rob Lowe character is not even upset about it! \\\"I will forgive you if you can forgive me,\\\" is as upset as he gets. If someone took weeks to convince me I was about to die and then said \\\"No, sorry , just fooling you\\\" I would raise some serious hell. I don't feel bad about giving away the spoiler because I might be able to save some of you out there from watching. Please save yourself and DON'T WATCH THIS MOVIE.\"\n",
      "* * * * * * * * * \n",
      "12731\n",
      "i am a big fan of karishma Kapoor and Govinda. I watched this film after i had seen Fiza, which was absolutley brilliant.<br /><br />There are films that are bad, and there are films that are cr*p. but this film just takes the biscuit.<br /><br />We were so annoyed that we were conned out of paying our money expecting a decent film.<br /><br />avoid at all cost, dont even rent it.<br /><br />1/10\n",
      "* * * * * * * * * \n",
      "12916\n",
      "This movie stinks. The stench resembles bad cowpies that sat in the sun too long. I can't believe that so many talented actors wasted their time making such a hopelessly awful film. Whew!\n",
      "* * * * * * * * * \n",
      "13134\n",
      "Well, finally got to see the remake last night in London, unintentionally hilarious, sexless and devoid of any real humour. I don't really know where to start, whilst I was entertained by this strange homage, it didn't really move me. The acting is screamingly hammy, there is no original music, the costumes are far too 'Disney' there is a ridiculous 'six months later' insert after the burning of Nic Cage (which didn't come soon enough for my liking) The bit with Cage in the bear suit had the audience suppressing mirth as did the comedy punching out of various 'baddies' on the island. It's such a weird remake that I cant quite believe I saw it, it reminded me of something that The Comic Strip presents would have done in the eighties, a bit like their Hollywood interpretation of the Miner's Strike, very strange!\n",
      "* * * * * * * * * \n",
      "13152\n",
      "Bobby is a goofy kid who smiles far too much and wants sex. So he buys a van to aid in this quest. The acting is lame, the comedy is pathetic and the script is no more than a loosely strung chain of clichés and cheap thrills. The makers of the film obviously wanted to capture some of the out there craziness of other films of the time, but fell a long way short. They even resort to Bobby slipping on a banana skin, because this will supposedly add comedic value.<br /><br />I'm struggling to find a redeeming feature of the film. If you like DeVito, this is another classic DeVito kind of role - but he's only a supporting actor and there for cliché value.\n",
      "* * * * * * * * * \n",
      "13168\n",
      "The sects that capitalise on this film are well known for their claim to take the 'message' of the bible without any alteration or extra-biblical influence. The existence of this film is solely due to the fact that there is no such thing.<br /><br />If you want to know what the born-again branch of Christianity were harping on about in the seventies just look up the word 'rapture' in a dictionary of cults and sects. It's quicker than sitting through this waste of celluloid.<br /><br />Poor acting, uneven sound quality and a script that could just as easily have been written by Jack T Chick (paranoid Christian conspiracy theorist for those not familiar with the Evangelical scene). You could not really put this into the 'so bad it's good' category so its only audience are either those with a pamphlet collection looking to branch out or the extremely paranoid.\n",
      "* * * * * * * * * \n",
      "13362\n",
      "This service comedy, for which Peter Marshall (Joanne Dru's brother and later perennial host of The Hollywood Squares) and Tommy Noonan were hyped as 'the new Lewis and Martin' is just shy of dreadful: a few random sight gags are inserted, everyone talks fast and nothing works quite right -- there's one scene in which Noonan is throwing grenades at officers and politicians in anger; they're about five feet apart, Noonan is throwing them in between, and the total reaction is that everyone flinches.<br /><br />In the midst of an awfulness relieved only by the fetching Julie Newmar, there are a few moments of brightness: Marshall and Noonan engage in occasional bouts of double talk and argufying, and their timing is nigh unto perfect -- clearly they were a well honed comedy pair.<br /><br />It isn't enough to save this turkey, alas.\n",
      "* * * * * * * * * \n",
      "13454\n",
      "I am fully aware there is no statistical data that readily supports the correlation between video games and real life violence. The movie is false and phony because it is in complete contradiction of itself, which is what I tried to emphasize in my original review. The movie fails, not necessarily because I really do think these kids were influenced by video games, but because the movie sets it up as \\random\\\" and doesn't follow through. Let me clarify. In Aileen: Life and Death of a Serial Killer, you can see her claims about the police and being controlled by radio waves are ridiculous, yet she is so troubled, she really believes them to be true. The viewer can make the distinction however. In Zero Day, the 2 kids keep saying how they are not influenced by anything environmental, which is obviously false since everything they do contradicts this. Neo-nazism, talking about going on CNN with Wolf Blitzer (which is laughable not only because they know his name, but its a shameless attempt by the filmmaker to get coverage of his bad movie)..etc. This movie doesn't depict 'reality', it shows nothing but phoniness to prove a point. Unfortunately you fell for the bait and didn't see this, and you didn't pick up on it from my review either. The entire movie is just taking Michael Moore's hypothesis and applying it to something \\\"real life\\\" in hopes of validating and it fails, not necessarily because the hypothesis is wrong, but because the movie is wrong and doesn't support it. Of course I don't think kids that play video games are more likely to kill people, but if I'm not mistaken, didn't video tape exist of the Columbine kids (or some teen killers) shooting guns in the forest claiming how much they looked or acted like the weaponry in Doom? Hmmmmmmm, the distinction is kids are most likely aware of the media, influenced, but obviously balanced or intelligent enough that its not even an issue. Zero Day is a bad movie not because I really believe a correlation exists, but because the film maker doesn't know what hes trying to say, and the movie does more to disprove his point then support it. It's almost as if the new ratings given to video games made someone upset so they came up with 'Zero Day' in retaliation. If you want to see the 'mindless' teen killer theory pulled off right, go watch Bully.\"\n",
      "* * * * * * * * * \n",
      "13737\n",
      "Devil Dog sets your heart racing. It's brilliantly paced, the ending comes like a bolt out of the blue and plunges itself into the very centre of your being. You'll never look at your dog the same way again. In fact you'll start thinking of having it put down - BY A PRIEST! FANTASTIC!\n",
      "* * * * * * * * * \n",
      "13896\n",
      "Put a DVD of this flick in a time capsule, and it will definitely illustrate for future generations a perfect example of one which warrants the minimal rating on a 1-to-10-star scale.<br /><br />Bill Cosby and Ray Romano have been at the top - in ratings and with tens of millions in earnings annually - with their television series'. Yet each has had no success in big-screen offerings. This has also been true for other TV personalities - perhaps because many of the stories which are presented for two hours or so seem more suited to either a 10-minute skit, or at most, the 22 or 23 minutes of drama during a half-hour program.<br /><br />This film, however, doesn't have one single element which would warrant two or three minutes of time on MAD TV, SNL, or anywhere else on a screen or stage.<br /><br />Its origination date is listed as 2002, but release date - to DVD only - is shown as 2004. It also was filmed not long before Rodney Dangerfield's death, so its one redeeming value is that it probably provided at lease a few hundred thousand more dollars for his heirs.<br /><br />I'd never heard of it, but found it when turning-on my set, and frankly became fascinated by it. Some movies are so truly awful that they rate a sort of top rating in reverse - so bad that you can move the dial backwards to a 9 or 10. \\Plan 9 from Outer Space\\\" is the best example - and the Bruce Jenner/Village People opus, \\\"Can't Stop the Music,\\\" is another.<br /><br />Unfortunately this flick falls short even there. Even if Rodney's earlier work (as well as some of his fellow cast-members') fell short of \\\"Citizen Kane\\\" or \\\"Casablanca,\\\" there were many moments of humor and a story providing at least a modicum of interest.<br /><br />Unfortunately, this presentation doesn't seem to possess even a minute or two's worth of such material.\"\n",
      "* * * * * * * * * \n",
      "14516\n",
      "Comedy Central has a habit of putting on great programs at times-Chappelle's Show, The Daily Show, Colbert Report, and then there are those that some people love or hate-Stella, Dr. Katz. Then there are some shows that have their defenders but are just plain awful- Mencia, and now, Sarah Silverman.<br /><br />This show is based on the fact Silverman is self-Centered, which can be funny (Colbert Report) but can be horrible (Mind of Mencia). It should shock no one that I believe the latter is the case. This show is a parody of a sitcom and society, a program so absurd it loses itself in its absurdity and it simply isn't funny. A woman farting has been done in comedy many many times because its not something that's common. We don't need 25 minutes of it. When a criminal is disarmed by a queef, it simply loses its appeal-we saw it in Jay and Silent Bob Strike back, except the women were hotter, and the whole scene was more absurd, making it better. But the best comparison of this show is to Stella, except Stella was more subtle, which is what made the absurdist comedy funny. It had better acting, and I suppose, a bit more of a fantastical realist view.<br /><br />Perhaps the fact some reviews are so negative (I'm very skeptical of the critical acclaim but do not dispute fan reaction) to this show is the amount of advertising on it, very obnoxious ads through many programs far outdo advertising on for other programs. Many people are wondering why Sarah Silverman has a career, and others are still bitter when better shows have been canceled. This show should've never made it past the unaired pilot stage. Back to Norm showed far more promise, yet this show makes it further. And as far as critics being correct, many things have been universally panned have seen their status rise immensely. Last I checked, Britney Spears gets good reviews too also. Take that comparison however you want because someone will no doubt accuse me of being psychotic on IMDb for not liking this show.\n",
      "* * * * * * * * * \n",
      "14519\n",
      "I have been using IMDb for years and I never wanted to get involved in the commentary of movies",
      "until now. This documentary has so many problems that I hardly know what to say. I am not a Muslim, nor am I an Islamic studies expert, but I know enough to shed some light on the obvious one-sided viewpoint that this documentary espouses. <br /><br />The problems with this movie begin with the fact that it is a documentary. Most of the documentaries that I have seen anchor themselves around a few valid points and then surround those points with debatable interpretations and misinformation. This is certainly the case with Islam: What the West Needs to Know. Yes, there are fundamentalists around the world, and some of them are Muslim, but to build a documentary about all of Islam around a small percentage of radicalized people is incredibly misleading. This is really a documentary about the fundamentalist aspects of Islam and nothing more.<br /><br />For those who would like to more objectively explore some of the issues raised in this documentary, here are several points that may help. <br /><br />There was nothing positive about Islam presented in the documentary.<br /><br />The documentary focuses on the Middle East, but more Muslims live outside of that region. More Muslims live in China, believe it or not, than in Saudi Arabia. About 40% of all Muslims live in Pakistan, Bangladesh, India and Indonesia.<br /><br />The translation of the Qur'an used in the documentary is a questionable one. I watched the documentary while viewing another translation and the differences were striking. I had been warned about the translation that was used in the documentary and now I know why. Surrah 98:6 is a good example. The documentary suggests that the Surrah says that disbelievers will go to hell. But the translation I have reads instead: \\Those who reject Truth among the People of the Book and among the Polytheists will be in hellfire.\\\" The difference is that those who reject Truth are those people who know about God and the Truth of God and decide to reject it anyways. <br /><br />The movie mentioned that there is no morality inherent in Islam, but this is not true. Although it is true that much comes from the Qur'an and Hadith, Islam also recognizes a concept called 'Urf or \\\"normative behavior.\\\" Obviously what is normative can be interpreted many ways, but 'Urf is meant to be \\\"good\\\" behavior, what an average person would consider right or wrong.<br /><br />The documentary presents Shar'ia (Islamic Law) as being one unified body of knowledge that all Muslims follow. This is simply not true. There are many Islamic schools of law and they range from progressive and modernist to fundamentalist in the way they interpret law. <br /><br />The Hadith tradition is similar. There are thousands of Hadith and each school of law accepts some and rejects others. Using the Hadith without serious scholarship to determine which ones are accurate, real and applicable, is indiscriminately picking and choosing quotations from history that fit what you want to say",
      " which is what the documentary did.<br /><br />What I hope people realize is that fundamentalism is the problem, not Islam or any other religion. Christianity has fundamentalists that shoot abortion clinic doctors and so on. I know this is not the same as suicide bombing, just understand that the righteousness of fundamentalism is arguably the problem. If you feel you have THE answer, then everyone else must be wrong. But if you feel you have AN answer you can work together with other people's views about politics, religion, God, or whatever.\"\n",
      "* * * * * * * * * \n",
      "14612\n",
      "Ben Stiller doesn't so much act as react. And he does it very well. He is very dependent on the comedy going on around him. In There's Something About Mary, the stand-up hair scene only works because of Stiller trying to keep a straight face. When he confronts Mary's other two suitors, he is the unfunniest guy in the room but the scene is hilarious.<br /><br />In Along Came Polly, the formula breaks down for reasons that are difficult to fathom. Stiller is surrounded by an array of comic talent. Hank Azaria and Philip Seymour Hoffman get the best lines, of which there are too few. Having said that, Hoffman relies a little too much on bodily humour - you know we are in trouble when they go to the fart jokes to raise a laugh. A basketball scene where Hoffman hams it up is completely overplayed (though it throws up one predicament in the form of a shirtless opponent that does raise a smile - noticeably through Stiller's reaction). However, everyone seems to be acting in a bubble, there is very little reaction. Hoffman and Stiller's characters could have played off each other much, much more. Aniston again reprises her Rachael role, but Stiller is no Ross. It is more of a \\Joey with a crush on Rachael\\\" scenario.<br /><br />Polly is a by-the-numbers rom-com and that is its failing - it lacks heart. You don't root for the characters. With a little bit more work we could have had a deeper story, but in the end the film's failure comes down to poor writing. Worth watching if it pops up on TV on a slow night, but you'll regret forking out cash to see it.\"\n",
      "* * * * * * * * * \n",
      "14976\n",
      "This is just plain bad. Sometimes remakes, even if they stray from the original, are good on their own. They can bring another viewpoint and achieve a certain interpretation that makes them unique and enjoyable. This was as poorly thought out and carried out as can be. This wasn't any good even standing on it's own. Viggo Mortenson is a top-notch actor, but some of his selections of roles and projects leaves something to be desired. The original \\Vanishing Point\\\" was such a thrilling, psychological adventure; this is not an adventure at all, and is not enjoyable or entertaining whatsoever. This was made from a by-the-numbers approach to film-making, stuffing in plot points that someone in Hollywood believes will please what they see as today's film-going audience. Basically, they see us as a bunch of idiots. It's insulting that someone will put this out as a feature film, and even attempt to remake a cult classic this sloppily. The manipulative plot devices, the \\\"make-it-obvious-so-they-don't-miss-the-point\\\" aspects, ridiculous dialogue, stereotyped characters, amateurish direction...<br /><br />This is plain bad....\"\n",
      "* * * * * * * * * \n",
      "15337\n",
      "Thomas Archer (Ron Eldard) has his child killed and his wife viciously attacked in a home invasion. Dr. Heller (Christopher Plummer) tries to help him through the post traumatic stress. Then Archer finds himself confronted with a man (Til Schweiger) bound and gagged to a chair. He is told this is the man who killed his child and attacked his wife and he can do whatever he likes to him. And there's a large assortment of instruments there to help him...<br /><br />Film is interesting at first (and shows real restraint in terms of blood and gore) but gets stupider by the minute and has some highly unlikely plot twists and turns. It all ends in a final twist that was so old and stupid that I was shocked anyone would actually think of using it anymore. How such talented actors like Eldard, Schweiger and Plummer got involved in crap like this is beyond me. This gets three stars for the acting but the stupid plot and truly unbelievable twists make this a chore to sit through.\n",
      "* * * * * * * * * \n",
      "15937\n",
      "I don't understand how \\2 of us\\\" receive such a high rating... I thought that the first half dragged on and the second half didnt make sense, followed by an unresolved climax which was not worth the trouble. However, I did like Jared Harris' performance of John Lennon which was worth the wasted 2 hours.\"\n",
      "* * * * * * * * * \n",
      "16097\n",
      "I watched this film recently on DVD and I have to say I wasn't impressed. I know it's taboo to knock independent films, but this one felt devoid of entertainment.<br /><br />The premise was interesting, but the execution of it fell short. I found myself thinking \\okay, they're just getting into it, the story will pick up soon\\\". Before I knew it, the film was over and the story never picked up. I can't say I found the acting all that impressive either. It was pretty bad. Not Star Wars prequel trilogy bad, but bad nonetheless.<br /><br />I'm not sure what the running time was, I'll assume two hours (because it's a safe estimate). Anyway, when the film was finished, I felt as though I deserved some kind of recognition for the will power I exerted in not stopping the film and walking away halfway through.<br /><br />Again, I was thoroughly unimpressed, and eventually bored out of my wits. I'm not one of those guys who requires fast-paced action and explosions in a film, so don't start in on me as that being a reason for not liking it.\"\n",
      "* * * * * * * * * \n",
      "16288\n",
      "I couldn't relate to this film. It failed to engage me either intellectually, emotionally or aesthetically. The dialogue was very dense and uninvolving. I couldn't connect with and hence care about any of the characters and I'm finding it hard to find much that's positive to say about it.<br /><br />I've read that to understand it properly one needs to be familiar with some of the more obscure aspects of Catholic theology. I'll admit that, as an atheist, I probably am unfamiliar with many of the finer details of Catholicism, but I have also seen many films dealing with religious issues that have touched me because their themes are still universal to the human condition and don't rely on specialised knowledge or beliefs.\n",
      "* * * * * * * * * \n",
      "16813\n",
      "This series had potential, but I suppose the budget wouldn't allow it to see that potential. An interesting setup, not dissimilar to \\lost\\\" it falls flat after the 1st episode. The whole series, 6 episodes, could have made a compelling 90 minute film, but the makers chose to drag it on and on. Many of the scenes were unbearably slow and long without moving the action forward. The music was very annoying and did not work overall. There were few characters we cared about as their characters did not grow during the time frame--- well, one grew a bit. The ending was as terrible as the rest of series. The only kudos here is to the art dept and set dressers, they created an interesting look, too bad the writer and director lacked the foresight to do something interesting with that element\"\n",
      "* * * * * * * * * \n",
      "16818\n",
      "This film has a weak plot, weak characterization, and really weak special effects that I question why I lost valuable life by watching it. It has random characters who add nothing to the story and seem like excuses for the director to get his girlfriend in the film. The robots are sad and the main \\hero\\\" 'bot is turned on by a huge knife switch. If this movie weren't so bad it would be laughable, but there's nothing funny about it. The main antagonist is one of the only redeeming characters, and he is killed. It's sad when you root for the bad guy, because he's the best one to cheer for. When all is said and done, this movie was better left on the cutting room floor, or never funded at all.\"\n",
      "* * * * * * * * * \n",
      "16914\n",
      "the tortuous emotional impact is degrading, whether adult or adolescent the personal values shown in this movie belong in a bad psychodrama if anywhere at all. This movie has a plot, but it is all evil from start to end. This is no way for people to act and degrades both sexes all the way through the movie. teen killing - bad preteen sex - bad emotional battering - bad animal cruelty - bad psychological torture - bad parental neglect - bad the only merit if any is the excellent color shots of contrasting red, blond and green leaves a bad feeling for anyone that respects life and peace, what a bad mistake to make, or to watch... it is UGLY\n",
      "* * * * * * * * * \n",
      "17005\n",
      "The bad out takes from \\Reign of Fire\\\" strung together, without any real story.<br /><br />Dean Cain tries to be a real actor, and fails again.<br /><br />In the end the dragons quit in disgust.<br /><br />BARF!\"\n",
      "* * * * * * * * * \n",
      "17201\n",
      "Billy Chung Siu Hung's (the bloody swordplay film Assassin from 1993) film Love To Kill (Hong Kong, 1993) is among the strongest products of the Category III boom that inhabited the HK cinema in early nineties. It consisted of films with strong sex, nudity and violence, more or less gratuitous and shock valued only. Love To Kill definitely belongs to the \\more\\\" category with some unforgettable ideas and pieces of celluloid sickness.<br /><br />The HK psycho Anthony Wong (from the award winning The Untold Story by Herman Yau, from the same year) plays a business man and a husband who likes to torture, humiliate and rape his young wife (Elizabeth Lee Mei Fung) who for some reason doesn't leave him and save herself and their little son from the disturbed tormentor. A policeman (Danny Lee, the famous police character actor from films like Dr. Lamb (1992) by Billy Tang (and co-directed by Lee) and The Killer (1989) by John Woo to name just a few) however sees the problem and starts to protect the wife and the son but Anthony naturally doesn't like this at all, and leads it all into the typical ultra-mean spirited and graphic finale during a rain storm.<br /><br />The film is almost completely without any serious merits as it's just a piece of exploitation in order to cash in when these kind of films were so popular. The imagery and happenings are something never found in the Western cinema, at least in mainstream, and it all becomes even more mind-blowing when some/most taboos for Westerners, like violence and perversions witnessed by a child, are broken in these films so often that reading the plotlines alone would make most viewers feel sick, and that goes perfectly especially for this film too.<br /><br />The film still has a rather interesting and creepy soundtrack in the tradition of the mentioned Dr. Lamb which practically started the whole boom in 1992. Usually the music and soundtrack in HK films is interesting and adds to the imagery, especially in these terror films. Also the cinematography is worth mentioning as the film bathes, especially in the finale, in blue colors and camera lenses (as does Assassin, too), and the raging storm is captured nicely on the camera. Otherwise there's nothing that would rate the film any higher other than on the nastiness-meter.<br /><br />The actors and actresses are talented and professional and so don't make the film any worse with their acting. Still the film has the usual HK humor in it which makes the sick goings-on even sicker as some \\\"humor\\\" is thrown into the soup. That includes some jokes about Danny Lee's erection and so on..Something that could never be found in the Western \\\"serious\\\" films either. And that thing usually destroys mane otherwise noteworthy HK films as the humor is just so obvious way and attempt to entertain the audience and masses.<br /><br />The film has a very high outrageousness level as it has numerous scenes depicting the abuse of Wong's wife in various ways. She gets raped and molested, beaten and kicked by her husband. We also get to see some flashbacks from Wong's own childhood which turns out to be equally violent as his own father killed too and turned his young son into what he is now. These flashback scenes, mostly at the end of the film, include also some totally unexpected experiences as the imagery is speeded up (for example the hits of an axe) and that creates completely insane and mean spirited atmosphere to the scene. Again something that only HK exploitation makers seem to be able to come up with. The ending itself includes plenty of sudden and shocking gore as the madman wields his axe and meets also some nails, for example, on his furious way.<br /><br />The film is also genuinely pretty \\\"suspicious\\\" in my opinion as the violence and terror is realistically painful and deals with things that should NEVER be taken as entertainment, mostly I mean rape. The version I saw (I've seen two versions) includes a very long and completely nauseating rape scene that just tries to be as sadistic as possible. I'm not sure does the HK audience really like imagery like this but I think no one with some sense for morality in films/entertainment would never accept or make something like it. Women get brutalized and killed in the most sadistic and low ways so that the fates of the men seem almost tame when compared to the females.<br /><br />The other version I saw, the newly released DVD in HK (without subtitles) has this \\\"table brutality\\\" scene in a much longer form than the subtitled Taiwanese DVD which is otherwise identical to the HK version. I've also heard that the old HK Laserdisc is different from these two and since the end credits are filled with scenes and images not found in the actual film, it is impossible to say how \\\"uncut\\\" versions these that have been released or shown theatrically are. Obviously plenty of footage has been cut out, possibly even before the theatrical release.<br /><br />The film is written by Law Gam Fai and Lau Wing Kin, the former having written also films like Dr. Lamb, The Untold Story and Gunmen (Kirk Wong, 1988) but out of his other films that I've seen, Love to Kill is the most gratuitous. Dr. Lamb and The Untold Story both are very brutal and violent but have also some attempt to some criticism towards the authorities and men in general as how it is easy to turn into a beast when chasing or fighting one. The harrowing torture imagery of The Untold Story, the victim being the criminal, is very strong and definitely has its impact to change something that may be rotten in the society and among the police for example. But there's none of this in Love to Kill, it is just honest, calculated and fastly made exploitation which is, by the way, produced by a veteran director Kirk \\\"Organized Crime & Triad Bureau (1993), Crime Story (1993)\\\" Wong!<br /><br />Love to Kill earns no more than 2/10 from me as I don't have too high appreciation on films like this. (HK) Cinema is meant to be and can be more and films like Love to Kill are only commercial parasites living among the real pieces of the art.\"\n",
      "* * * * * * * * * \n",
      "17979\n",
      "High heels are tricksy things. They can elevate women (or cross-dressing men) to newfound heights, put forward a sharp statement of style and bring a touch of fragile elegance. Alternatively, they can be a perilous foot pain that will inevitably lead to trips, falls and ultimate tragedy. Tacones lejanos is more of a disappointment trip than a stylish high riser.<br /><br />Almodóvar's mother-daughter drama is stylish for sure, but in terms of plot it's a tongue-tied and tedious affair full of confusing, complex characters that never fully engage or make sense. A few moments of comedy aside, Tacones lejanos just isn't interesting. The best bit comes at the beginning in a marvellously macabre case of manslaughter orchestrated by a child. From this brilliant bit of black comedy things are looking up, but then the film comes to a heel.<br /><br />There's solid enough acting performances and there's some stylish, arty direction that you'd expect from Almodóvar, but otherwise Tacones lejanos isn't an impressive piece of Spanish cinema. With a story of murder, showbiz, femininity, fractured mother-daughter relationship and a character who is alternately a judge, a transvestite and a police informer this could have been a melodramatic powerhouse. Instead it's poor. High Heels stumbles for sure.\n",
      "* * * * * * * * * \n"
     ]
    },
    {
     "name": "stdout",
     "output_type": "stream",
     "text": [
      "18438\n",
      "I seriously can't believe Tim Burton and Timur Bekmambetov, two people I LOVE, signed on to produce this crap. Tim Burton is a brilliant director, but to be honest I've been losing interest in him for a while since his last few movies were either remakes or adaptations. He did produce the brilliant \\Nightmare Before Christmas\\\", which is one I've watched multiple times, and directed movies like \\\"Beetlejuice\\\" and \\\"Sleepy Hollow\\\", which are awesome films. Bekmambetov directed 3 films that I LOVE: Night Watch, Day Watch, and Wanted. I've only seen those three of his, but they prove he's an awesome director.<br /><br />Those two people producing one of the many reasons I was excited to see 9. So today I went to go see it at the theatre. I was so excited to finally have seen it. I had waited 7 months for the movie to come out.<br /><br />This movie is the first time I've walked out of a Tim Burton-related movie and said \\\"I enjoyed almost NONE of that\\\". I felt heartbroken to even have felt that way. I mean, with him and Bekmambetov at the production helm you'd have expected this movie to be a good watch. Right now I still can't get over how let down I was by this movie. I hadn't even heard of the original short film before seeing it but now, I can successfully say that this movie should have remained a short movie. Hell, Neil Blomkamp made an AWESOME full length remake of Alive in Joburg entitled District 9, what was so hard to get right about 9??? I really wanted to think this movie was awesome. I really did. But no, it failed on so many levels.<br /><br />The plot was extremely confusing and disjointed. I had no idea what was going on, let alone what it was about. Basically it's about a bunch of rag doll robots trying to save the earth. Well, OK, that's what I got from it. But the writing here is extremely poor. The whole film jumps around like a 6 year old with A.D.D. telling a story. There's this big, giant clanky monster robot that 9 awakens, causing destruction and stuff. That's the main villain. However, what else is wrong with this movie is that EVERYTHING COMES OUT OF NOWHERE. There were too many monster robots, most of which have no logical explanation behind them. They have 0 development whatsoever. I mean, that flying pterodactyl like monster just rips out of nowhere, we have no idea where it comes out of and Acker just expects us to know what it is. What was even more retarded was that snake-like creature with the strobing eyes that hypnotize. I dare you to give that description to someone else out loud and expect them not to laugh. All of the 3 people I told about it burst out laughing. Oh and it wraps victims up and sews them inside it. I'M. NOT. KIDDING.<br /><br />The twist in Act III is the most retarded aspect of the whole movie. So basically 9 goes back to the room he woke up in, finds this box with a hologram from the scientist in it for 9, and he tells him that the big scary machine robot was designed to bring robot life to earth, but then evil humans use it for war, and it was supposed to help protect the earth, but then the scientist gave his life to 9 so that it could help protect the world with it. And HE ONLY MENTIONS GIVING HIS LIFE TO 9. But what about the other robots? WHO GAVE THEIR LIVES TO THEM???????? This is the perfect example of poor, rushed writing. There's only one of the life taking device thingy that exists so how did the other 8 get life given to them??????? The characters are not likable at all either. They risk their lives for no reason at all. The only good character is 7. 6 annoyed me with his \\\"GO BACK TO THE SOURCE!!!!!!\\\" ramblings, 1 is an overpowering idiot, 2 we don't know ANYTHING about, 5 kept annoying me with his \\\"Are you sure...\\\" or \\\"Can I stay here instead...?\\\" questions. And that ending? UGH. I'm glad I'm not the only one who thinks that the ending was a huge WTF moment.<br /><br />There's nothing redeeming about this turd except for its beautiful animation. Everything looks realistic and beautiful, I love the gloomy and depressing look of everything. However, beauty can't save a good movie.<br /><br />While it's true that this movie is very pretty looking, pretty is as pretty does, and 9 does squat. I'm sure Burton fans will be flocking to the theatre to see this movie without a doubt, in fact with his and Bekmambetov's names being thrown around the promos, people will be flocking to the theatre to see this movie. I know I may be making a big deal out of nothing, but watching this movie made me realize how much I hate movies with unlikeable characters, nonexistent plot and just pure style over content. And this movie is one of those movies.\"\n",
      "* * * * * * * * * \n",
      "18552\n",
      "Beautiful attracts excellent idea, but ruined with a bad selection of the actors. The main character is a loser and his woman friend and his friend upset viewers. Apart from the first episode all the other become more boring and boring. First, it considers it illogical behavior. No one normal would not behave the way the main character behaves. It all represents a typical Halmark way to endear viewers to the reduced amount of intelligence. Does such a scenario, or the casting director and destroy this question is on Halmark producers. Cat is the main character is wonderful. The main character behaves according to his friend selfish.\n",
      "* * * * * * * * * \n",
      "18585\n",
      "the intention the directors has for this films are quite honorable, but his history of his productions did get me aware that this might not get much to the core like other film makers would do it. keeping his great 30 days TV series in mind but also counting in his MTV production \\i bet you will\\\" that opposes his seriousness in any of the matters he documents and also counting in his rather disappointing production \\\"supersize me\\\" i did not had my hopes up high. sadly enough this movie disappointed me none the less. as with \\\"supersize me\\\" after a while i did ask myself what exactly the point of all this was. the main statement gets clear enough after half an hour but the rest of the playtime gets filled with rather pointless stuff and re-repeating stuff that were already shown in this way or another earlier in the movie, so it wears out and gets extremely boring towards the end.\"\n",
      "* * * * * * * * * \n",
      "18629\n",
      "This was one of the worst movies I have ever seen. Branaugh seemed to have so much trouble remembering his accent that he couldn't deliver his lines. The plot was definitely not worthy of John Grisham's name. No wonder it was never published as a book or released in theaters. I didn't even watch the whole thing. I decided I didn't care who done it, then realized there was no \\whodunit\\\" to care about!\"\n",
      "* * * * * * * * * \n",
      "18947\n",
      "Expectations were somewhat high for me when I went to see this movie, after all I thought Steve Carell could do no wrong coming off of great movies like Anchorman, The 40 Year-Old Virgin, and Little Miss Sunshine. Boy, was I wrong.<br /><br />I'll start with what is right with this movie: at certain points Steve Carell is allowed to be Steve Carell. There are a handful of moments in the film that made me laugh, and it's due almost entirely to him being given the wiggle-room to do his thing. He's an undoubtedly talented individual, and it's a shame that he signed on to what turned out to be, in my opinion, a total train-wreck.<br /><br />With that out of the way, I'll discuss what went horrifyingly wrong.<br /><br />The film begins with Dan Burns, a widower with three girls who is being considered for a nationally syndicated advice column. He prepares his girls for a family reunion, where his extended relatives gather for some time with each other.<br /><br />The family is high atop the list of things that make this an awful movie. No family behaves like this. It's almost as if they've been transported from Pleasantville or Leave it to Beaver. They are a caricature of what we think a family is when we're 7. It reaches the point where they become obnoxious and simply frustrating. Touch football, crossword puzzle competitions, family bowling, and talent shows ARE NOT HOW ACTUAL PEOPLE BEHAVE. It's almost sickening.<br /><br />Another big flaw is the woman Carell is supposed to be falling for. Observing her in her first scene with Steve Carell is like watching a stroke victim trying to be rehabilitated. What I imagine is supposed to be unique and original in this woman comes off as mildly retarded.<br /><br />It makes me think that this movie is taking place on another planet. I left the theater wondering what I just saw. After thinking further, I don't think it was much.\n",
      "* * * * * * * * * \n",
      "18983\n",
      "This movie was so bad I couldn't sit through it without doing something else. There was no plot and no point. I was thoroughly bored and for a film about a stand up comedian, I couldn't recall one joke or funny line worthy of the description. Politicians with no charisma speaking technical jargon could not be less entertaining.<br /><br />So how was this made? Is there no quality control in film? Watching the girls in bikinis was the only distraction during this horrible experience.<br /><br />It's hard to imagine that Adam Sandler who has become popular and has appeared in fine comedies was able to survive after this kind of exposure. He was not funny in the least in this movie so it proves that the writing is so vital in effective comedy.\n",
      "* * * * * * * * * \n",
      "19159\n",
      "The clichéd Polynesian males drink, fight and make a stream of sexist, stupid and unfunny remarks. Real life Polynesians are much funnier than these stereotyped, cardboard characters. The supposedly Samoan girl didn't look or act Samoan at all, seemed more like the stock white female who has sex with anyone on a whim. With weak as water story lines you can't say anything about the acting - even the most brilliant actors could do nothing with this script. It's sad to see Polynesian actors willing to play such sad stereotypes in a film with not one good scene, and only two or three 'jokes'. What a waste of Kiwi taxpayers' money, what a lost opportunity to make a great film about a vibrant community. It's better not to make movies if they're as bad and mindless as this.\n",
      "* * * * * * * * * \n",
      "19226\n",
      "I saw this movie a long time ago... luckily it was for free. I have to be one of the maybe twenty people who saw this movie in the theater. I don't remember a whole bunch of it, but I do remember I was incredibly bored, the plot made no sense and when I came out of the theater the only thing I could say was at least now I know what the worst movie I ever saw was. I just was incredibly bothered by one thing: if they can make the temperature as they approach the sun low enough for humans to survive, why can't they turn it down to a comfortable temperature instead of being all hot and sweaty? How stupid do they think we are?\n",
      "* * * * * * * * * \n",
      "19526\n",
      "Any film which begins with a cowhand shagging a female calf can't promise much. As for the stereotyping of the kibbutz as it was 50 yrs ago, well I was there and it just wasn't like that. OK every kibbutz had just a small piece of something shown in the film (like youngsters raiding the kitchen at night) but you can't show the whole kibbutz as being full of all those - shall we say - naughty traits. Each kibbutz had its own problems, but hardly any kibbutz had all of them. The views of Israel were great. I still remember my youth in that Garden of Eden called the Emek (valley). Yes, and the acting was good too, so you see it wasn't all black - just a wrong portrayal - probably on purpose too.\n",
      "* * * * * * * * * \n",
      "19602\n",
      "First of all, I'd like to tell you that I'm into comics, anime, animation and such stuff. It is true that everyone has his own preferences, but you can trust me on this movie. I'll be objective. To begin with the story - it's OK. Follows the story line of the comic books as far as I'm familiar with them. But the animation... Well, it's not actually terrible, but it's definitely cheap and mediocre. It would be a lot better if they didn't try to imitate the anime style and sticked to the original comic book style drawings. If we pretend not to see the rare sloppy effects like fire and lightnings you could tell that the movie is made about 10 years ago and even more. Looks a little bit like the original Vampire Hunter D from 1985. Take a look at Heavy Metal FAKK 2000 for instance - 4 years ago they made a movie that looks a hell lot better! In addition to this the voice talents do nothing remarkable, the music is nothing special. So all in all - it lacks atmosphere. I watched it, but I cannot tell I really enjoyed it. It just does not capture you. There's plenty of blood and violence, but that does not impress me at all. May be it will be shocking for someone who was never watched more mature oriented animations and sees animated blood for the first time (is there anyone around?), but I don't think this is the audience for this movie. So they could add a little nudity and spice to it. The chicks around Lucifer were quite tasty, and hell, we have Lady Death herself! There are few sexy looks, but that's not enough. Instead of Bill Brown's music I think it would look better on a hard rock / heavy metal soundtrack. All in all - the movie isn't that bad, but if you want something better take the original Heavy Metal, Heavy Metal FAKK 2000, Ralph Bakshi's Fire and Ice or Wizards maybe. And of course - Vampire Hunter D: Bloodlust\n",
      "* * * * * * * * * \n",
      "19782\n",
      "Revenge of the Sith starts out with a long action sequence that is impressive without being terribly exciting, then gets really boring for the next hour and fifteen minutes, with the same horrible dialogue and dull machinations that have plagued the rest of the prequel series. The only thing that improves the proceedings is the slow--and I mean slow--build-up to what we know will be the birth of Darth Vader. And when that finally comes, it's pretty all right. Not great. Not even good. But pretty all right. This movie is being vastly over-praised because it does not suck to high heaven like the previous sequels. Instead it's just turgid, dull, and routine. But you have to say, wow, those CGI environments are really impressive at times. Bu the lightsabre fights? They're all a blurry mess. I think the dark side took hold of Lucas when he started these prequels and no one noticed. This will make a ton of money, but thank god it's over, this once-worshipped franchise has been beaten down enough. I saw the 12:01 show, and after it, I heard a group of very small kids say, wow that was awesome! But everyone older than eight all grumbled the same thing: I fell asleep in the middle. It was kind of boring. I just thought seeing the birth of Darth Vader would be better. So said we all.\n",
      "* * * * * * * * * \n"
     ]
    }
   ],
   "source": [
    "# false positives\n",
    "\n",
    "print(\"Examples of false positives:\")\n",
    "\n",
    "import random, time\n",
    "\n",
    "for i in range(0, len(ols_predictions)):\n",
    "    if (ols_predictions[i] == 1):\n",
    "        if (X_raw_train.iloc[i]['sentiment'] == 0):\n",
    "            if (random.uniform(0, 1) < 0.05): # to print only 5% of the false positives\n",
    "                print(i)\n",
    "                print(X_raw_train.iloc[i]['review'])\n",
    "                print('* * * * * * * * * ')\n"
   ]
  },
  {
   "cell_type": "markdown",
   "metadata": {},
   "source": [
    "---\n",
    "\n",
    "# <span style=\"color:red\">WARNING: Don't look at test set performance too much!</span>\n",
    "\n",
    "---\n",
    "\n",
    "The following cells show performance on your test set. Do not look at this too often! "
   ]
  },
  {
   "cell_type": "markdown",
   "metadata": {},
   "source": [
    "# Look at performance on the test set"
   ]
  },
  {
   "cell_type": "markdown",
   "metadata": {},
   "source": [
    "### MODEL: ordinary least squares"
   ]
  },
  {
   "cell_type": "code",
   "execution_count": 134,
   "metadata": {},
   "outputs": [
    {
     "name": "stdout",
     "output_type": "stream",
     "text": [
      "{'Pos': 2547, 'Neg': 2453, 'TP': 652, 'TN': 1927, 'FP': 526, 'FN': 1895, 'Accuracy': 0.5158, 'Precision': 0.5534804753820034, 'Recall': 0.25598743619945036, 'desc': 'ols_test'}\n"
     ]
    }
   ],
   "source": [
    "ols_performance_test = BinaryClassificationPerformance(ols.predict(X_test), y_test, 'ols_test')\n",
    "ols_performance_test.compute_measures()\n",
    "print(ols_performance_test.performance_measures)"
   ]
  },
  {
   "cell_type": "markdown",
   "metadata": {},
   "source": [
    "### MODEL: SVM, linear"
   ]
  },
  {
   "cell_type": "code",
   "execution_count": 135,
   "metadata": {},
   "outputs": [
    {
     "name": "stdout",
     "output_type": "stream",
     "text": [
      "{'Pos': 2547, 'Neg': 2453, 'TP': 2159, 'TN': 2085, 'FP': 368, 'FN': 388, 'Accuracy': 0.8488, 'Precision': 0.854372774040364, 'Recall': 0.8476639183352964, 'desc': 'svm_test'}\n"
     ]
    }
   ],
   "source": [
    "svm_performance_test = BinaryClassificationPerformance(svm.predict(X_test), y_test, 'svm_test')\n",
    "svm_performance_test.compute_measures()\n",
    "print(svm_performance_test.performance_measures)"
   ]
  },
  {
   "cell_type": "markdown",
   "metadata": {},
   "source": [
    "### MODEL: logistic regression"
   ]
  },
  {
   "cell_type": "code",
   "execution_count": 136,
   "metadata": {},
   "outputs": [
    {
     "name": "stdout",
     "output_type": "stream",
     "text": [
      "{'Pos': 2547, 'Neg': 2453, 'TP': 2160, 'TN': 2078, 'FP': 375, 'FN': 387, 'Accuracy': 0.8476, 'Precision': 0.8520710059171598, 'Recall': 0.8480565371024735, 'desc': 'lgs_test'}\n"
     ]
    }
   ],
   "source": [
    "lgs_performance_test = BinaryClassificationPerformance(lgs.predict(X_test), y_test, 'lgs_test')\n",
    "lgs_performance_test.compute_measures()\n",
    "print(lgs_performance_test.performance_measures)"
   ]
  },
  {
   "cell_type": "markdown",
   "metadata": {},
   "source": [
    "### MODEL: Naive Bayes"
   ]
  },
  {
   "cell_type": "code",
   "execution_count": 137,
   "metadata": {},
   "outputs": [
    {
     "name": "stdout",
     "output_type": "stream",
     "text": [
      "{'Pos': 2547, 'Neg': 2453, 'TP': 2083, 'TN': 2193, 'FP': 260, 'FN': 464, 'Accuracy': 0.8552, 'Precision': 0.8890311566367904, 'Recall': 0.817824892029839, 'desc': 'nbs_test'}\n"
     ]
    }
   ],
   "source": [
    "nbs_performance_test = BinaryClassificationPerformance(nbs.predict(X_test), y_test, 'nbs_test')\n",
    "nbs_performance_test.compute_measures()\n",
    "print(nbs_performance_test.performance_measures)"
   ]
  },
  {
   "cell_type": "markdown",
   "metadata": {},
   "source": [
    "### MODEL: Perceptron"
   ]
  },
  {
   "cell_type": "code",
   "execution_count": 138,
   "metadata": {},
   "outputs": [
    {
     "name": "stdout",
     "output_type": "stream",
     "text": [
      "{'Pos': 2547, 'Neg': 2453, 'TP': 2117, 'TN': 2095, 'FP': 358, 'FN': 430, 'Accuracy': 0.8424, 'Precision': 0.8553535353535353, 'Recall': 0.8311739301138594, 'desc': 'prc_test'}\n"
     ]
    }
   ],
   "source": [
    "prc_performance_test = BinaryClassificationPerformance(prc.predict(X_test), y_test, 'prc_test')\n",
    "prc_performance_test.compute_measures()\n",
    "print(prc_performance_test.performance_measures)"
   ]
  },
  {
   "cell_type": "markdown",
   "metadata": {},
   "source": [
    "### MODEL: Ridge Regression Classifier"
   ]
  },
  {
   "cell_type": "code",
   "execution_count": 139,
   "metadata": {},
   "outputs": [
    {
     "name": "stdout",
     "output_type": "stream",
     "text": [
      "{'Pos': 2547, 'Neg': 2453, 'TP': 2360, 'TN': 2148, 'FP': 305, 'FN': 187, 'Accuracy': 0.9016, 'Precision': 0.8855534709193246, 'Recall': 0.9265802905378877, 'desc': 'rdg_test'}\n"
     ]
    }
   ],
   "source": [
    "rdg_performance_test = BinaryClassificationPerformance(rdg.predict(X_test), y_test, 'rdg_test')\n",
    "rdg_performance_test.compute_measures()\n",
    "print(rdg_performance_test.performance_measures)"
   ]
  },
  {
   "cell_type": "markdown",
   "metadata": {},
   "source": [
    "### MODEL: Random Forest Classifier"
   ]
  },
  {
   "cell_type": "code",
   "execution_count": 140,
   "metadata": {},
   "outputs": [
    {
     "name": "stdout",
     "output_type": "stream",
     "text": [
      "{'Pos': 2547, 'Neg': 2453, 'TP': 1259, 'TN': 2094, 'FP': 359, 'FN': 1288, 'Accuracy': 0.6706, 'Precision': 0.7781211372064277, 'Recall': 0.49430702787593245, 'desc': 'rdf_test'}\n"
     ]
    }
   ],
   "source": [
    "rdf_performance_test = BinaryClassificationPerformance(rdf.predict(X_test), y_test, 'rdf_test')\n",
    "rdf_performance_test.compute_measures()\n",
    "print(rdf_performance_test.performance_measures)"
   ]
  },
  {
   "cell_type": "markdown",
   "metadata": {},
   "source": [
    "### ROC plot to compare performance of various models and fits"
   ]
  },
  {
   "cell_type": "code",
   "execution_count": 141,
   "metadata": {},
   "outputs": [
    {
     "data": {
      "image/png": "[encoded data removed]",
      "text/plain": [
       "<Figure size 432x288 with 1 Axes>"
      ]
     },
     "metadata": {
      "needs_background": "light"
     },
     "output_type": "display_data"
    }
   ],
   "source": [
    "fits = [ols_performance_test, svm_performance_test, lgs_performance_test, nbs_performance_test, prc_performance_test, rdg_performance_test, rdf_performance_test]\n",
    "\n",
    "for fit in fits:\n",
    "    plt.plot(fit.performance_measures['FP'] / fit.performance_measures['Neg'], \n",
    "             fit.performance_measures['TP'] / fit.performance_measures['Pos'], 'bo')\n",
    "    plt.text(fit.performance_measures['FP'] / fit.performance_measures['Neg'], \n",
    "             fit.performance_measures['TP'] / fit.performance_measures['Pos'], fit.desc)\n",
    "plt.axis([0, 1, 0, 1])\n",
    "plt.title('ROC plot: test set')\n",
    "plt.xlabel('False positive rate')\n",
    "plt.ylabel('True positive rate')\n",
    "plt.show()"
   ]
  },
  {
   "cell_type": "markdown",
   "metadata": {},
   "source": [
    "---\n",
    "\n",
    "# <span style=\"color:red\">SUBMISSION</span>\n",
    "\n",
    "---"
   ]
  },
  {
   "cell_type": "code",
   "execution_count": 25,
   "metadata": {},
   "outputs": [
    {
     "name": "stdout",
     "output_type": "stream",
     "text": [
      "movie_data is: <class 'pandas.core.frame.DataFrame'>\n",
      "movie_data has 25000 rows and 2 columns \n",
      "\n",
      "the data types for each of the columns in movie_data:\n",
      "id        object\n",
      "review    object\n",
      "dtype: object \n",
      "\n",
      "the first 10 rows in movie_data:\n",
      "         id                                             review\n",
      "0  12311_10  Naturally in a film who's main themes are of m...\n",
      "1    8348_2  This movie is a disaster within a disaster fil...\n",
      "2    5828_4  All in all, this is a movie for kids. We saw i...\n",
      "3    7186_2  Afraid of the Dark left me with the impression...\n",
      "4   12128_7  A very accurate depiction of small time mob li...\n",
      "Shape of CountVectorizer X:\n",
      "(25000, 6912851)\n",
      "Look at a few rows of the new quantitative features: \n",
      "   word_count  punc_count\n",
      "0         131           5\n",
      "1         169          15\n",
      "2         176          18\n",
      "3         112           5\n",
      "4         133           8\n",
      "5         331          20\n",
      "6         121          18\n",
      "7         230          22\n",
      "8          59           3\n",
      "9         224          14\n",
      "Size of combined bag of words and new quantitative variables matrix:\n",
      "(25000, 6912853)\n",
      "(25000, 6912853)\n",
      "Shape of X_test for submission:\n",
      "(25000, 6912853)\n",
      "SUCCESS!\n",
      "Number of rows in the submission test set (should be 25,000): \n"
     ]
    }
   ],
   "source": [
    "# read in test data for submission\n",
    "# CHANGE FILE PATH and my_random_seed number (any integer other than 74 will do): \n",
    "raw_data, X_test_submission = process_raw_data(fn='/Users/user/Desktop/ML/final_assignment_1/moviereviews_test.tsv', my_random_seed=9, test=True)\n",
    "print(\"Number of rows in the submission test set (should be 25,000): \")"
   ]
  },
  {
   "cell_type": "markdown",
   "metadata": {},
   "source": [
    "---\n",
    "\n",
    "Choose a <span style=\"color:red\">*single*</span> model for your submission. In this code, I am choosing the Ordinary Least Squares model fit, which is in the `ols` object. But you should choose the model that is performing the best for you! "
   ]
  },
  {
   "cell_type": "code",
   "execution_count": 142,
   "metadata": {},
   "outputs": [
    {
     "ename": "ValueError",
     "evalue": "dimension mismatch",
     "output_type": "error",
     "traceback": [
      "\u001b[0;31m---------------------------------------------------------------------------\u001b[0m",
      "\u001b[0;31mValueError\u001b[0m                                Traceback (most recent call last)",
      "\u001b[0;32m/var/folders/yz/rnp375c502b3y_gwj8jjpb8m0000gn/T/ipykernel_42112/827539307.py\u001b[0m in \u001b[0;36m<module>\u001b[0;34m\u001b[0m\n\u001b[1;32m      2\u001b[0m \u001b[0mmy_submission\u001b[0m \u001b[0;34m=\u001b[0m \u001b[0mpd\u001b[0m\u001b[0;34m.\u001b[0m\u001b[0mDataFrame\u001b[0m\u001b[0;34m(\u001b[0m\u001b[0mraw_data\u001b[0m\u001b[0;34m[\u001b[0m\u001b[0;34m\"id\"\u001b[0m\u001b[0;34m]\u001b[0m\u001b[0;34m)\u001b[0m\u001b[0;34m\u001b[0m\u001b[0;34m\u001b[0m\u001b[0m\n\u001b[1;32m      3\u001b[0m \u001b[0;31m# concatenate predictions to the id\u001b[0m\u001b[0;34m\u001b[0m\u001b[0;34m\u001b[0m\u001b[0m\n\u001b[0;32m----> 4\u001b[0;31m \u001b[0mmy_submission\u001b[0m\u001b[0;34m[\u001b[0m\u001b[0;34m\"prediction\"\u001b[0m\u001b[0;34m]\u001b[0m \u001b[0;34m=\u001b[0m \u001b[0mnbs\u001b[0m\u001b[0;34m.\u001b[0m\u001b[0mpredict\u001b[0m\u001b[0;34m(\u001b[0m\u001b[0mX_test_submission\u001b[0m\u001b[0;34m)\u001b[0m \u001b[0;31m#change\u001b[0m\u001b[0;34m\u001b[0m\u001b[0;34m\u001b[0m\u001b[0m\n\u001b[0m\u001b[1;32m      5\u001b[0m \u001b[0;31m# look at the proportion of positive predictions\u001b[0m\u001b[0;34m\u001b[0m\u001b[0;34m\u001b[0m\u001b[0m\n\u001b[1;32m      6\u001b[0m \u001b[0mprint\u001b[0m\u001b[0;34m(\u001b[0m\u001b[0mmy_submission\u001b[0m\u001b[0;34m[\u001b[0m\u001b[0;34m'prediction'\u001b[0m\u001b[0;34m]\u001b[0m\u001b[0;34m.\u001b[0m\u001b[0mmean\u001b[0m\u001b[0;34m(\u001b[0m\u001b[0;34m)\u001b[0m\u001b[0;34m)\u001b[0m\u001b[0;34m\u001b[0m\u001b[0;34m\u001b[0m\u001b[0m\n",
      "\u001b[0;32m~/opt/anaconda3/lib/python3.9/site-packages/sklearn/naive_bayes.py\u001b[0m in \u001b[0;36mpredict\u001b[0;34m(self, X)\u001b[0m\n\u001b[1;32m     73\u001b[0m         \u001b[0mcheck_is_fitted\u001b[0m\u001b[0;34m(\u001b[0m\u001b[0mself\u001b[0m\u001b[0;34m)\u001b[0m\u001b[0;34m\u001b[0m\u001b[0;34m\u001b[0m\u001b[0m\n\u001b[1;32m     74\u001b[0m         \u001b[0mX\u001b[0m \u001b[0;34m=\u001b[0m \u001b[0mself\u001b[0m\u001b[0;34m.\u001b[0m\u001b[0m_check_X\u001b[0m\u001b[0;34m(\u001b[0m\u001b[0mX\u001b[0m\u001b[0;34m)\u001b[0m\u001b[0;34m\u001b[0m\u001b[0;34m\u001b[0m\u001b[0m\n\u001b[0;32m---> 75\u001b[0;31m         \u001b[0mjll\u001b[0m \u001b[0;34m=\u001b[0m \u001b[0mself\u001b[0m\u001b[0;34m.\u001b[0m\u001b[0m_joint_log_likelihood\u001b[0m\u001b[0;34m(\u001b[0m\u001b[0mX\u001b[0m\u001b[0;34m)\u001b[0m\u001b[0;34m\u001b[0m\u001b[0;34m\u001b[0m\u001b[0m\n\u001b[0m\u001b[1;32m     76\u001b[0m         \u001b[0;32mreturn\u001b[0m \u001b[0mself\u001b[0m\u001b[0;34m.\u001b[0m\u001b[0mclasses_\u001b[0m\u001b[0;34m[\u001b[0m\u001b[0mnp\u001b[0m\u001b[0;34m.\u001b[0m\u001b[0margmax\u001b[0m\u001b[0;34m(\u001b[0m\u001b[0mjll\u001b[0m\u001b[0;34m,\u001b[0m \u001b[0maxis\u001b[0m\u001b[0;34m=\u001b[0m\u001b[0;36m1\u001b[0m\u001b[0;34m)\u001b[0m\u001b[0;34m]\u001b[0m\u001b[0;34m\u001b[0m\u001b[0;34m\u001b[0m\u001b[0m\n\u001b[1;32m     77\u001b[0m \u001b[0;34m\u001b[0m\u001b[0m\n",
      "\u001b[0;32m~/opt/anaconda3/lib/python3.9/site-packages/sklearn/naive_bayes.py\u001b[0m in \u001b[0;36m_joint_log_likelihood\u001b[0;34m(self, X)\u001b[0m\n\u001b[1;32m    783\u001b[0m     \u001b[0;32mdef\u001b[0m \u001b[0m_joint_log_likelihood\u001b[0m\u001b[0;34m(\u001b[0m\u001b[0mself\u001b[0m\u001b[0;34m,\u001b[0m \u001b[0mX\u001b[0m\u001b[0;34m)\u001b[0m\u001b[0;34m:\u001b[0m\u001b[0;34m\u001b[0m\u001b[0;34m\u001b[0m\u001b[0m\n\u001b[1;32m    784\u001b[0m         \u001b[0;34m\"\"\"Calculate the posterior log probability of the samples X\"\"\"\u001b[0m\u001b[0;34m\u001b[0m\u001b[0;34m\u001b[0m\u001b[0m\n\u001b[0;32m--> 785\u001b[0;31m         return (safe_sparse_dot(X, self.feature_log_prob_.T) +\n\u001b[0m\u001b[1;32m    786\u001b[0m                 self.class_log_prior_)\n\u001b[1;32m    787\u001b[0m \u001b[0;34m\u001b[0m\u001b[0m\n",
      "\u001b[0;32m~/opt/anaconda3/lib/python3.9/site-packages/sklearn/utils/validation.py\u001b[0m in \u001b[0;36minner_f\u001b[0;34m(*args, **kwargs)\u001b[0m\n\u001b[1;32m     61\u001b[0m             \u001b[0mextra_args\u001b[0m \u001b[0;34m=\u001b[0m \u001b[0mlen\u001b[0m\u001b[0;34m(\u001b[0m\u001b[0margs\u001b[0m\u001b[0;34m)\u001b[0m \u001b[0;34m-\u001b[0m \u001b[0mlen\u001b[0m\u001b[0;34m(\u001b[0m\u001b[0mall_args\u001b[0m\u001b[0;34m)\u001b[0m\u001b[0;34m\u001b[0m\u001b[0;34m\u001b[0m\u001b[0m\n\u001b[1;32m     62\u001b[0m             \u001b[0;32mif\u001b[0m \u001b[0mextra_args\u001b[0m \u001b[0;34m<=\u001b[0m \u001b[0;36m0\u001b[0m\u001b[0;34m:\u001b[0m\u001b[0;34m\u001b[0m\u001b[0;34m\u001b[0m\u001b[0m\n\u001b[0;32m---> 63\u001b[0;31m                 \u001b[0;32mreturn\u001b[0m \u001b[0mf\u001b[0m\u001b[0;34m(\u001b[0m\u001b[0;34m*\u001b[0m\u001b[0margs\u001b[0m\u001b[0;34m,\u001b[0m \u001b[0;34m**\u001b[0m\u001b[0mkwargs\u001b[0m\u001b[0;34m)\u001b[0m\u001b[0;34m\u001b[0m\u001b[0;34m\u001b[0m\u001b[0m\n\u001b[0m\u001b[1;32m     64\u001b[0m \u001b[0;34m\u001b[0m\u001b[0m\n\u001b[1;32m     65\u001b[0m             \u001b[0;31m# extra_args > 0\u001b[0m\u001b[0;34m\u001b[0m\u001b[0;34m\u001b[0m\u001b[0m\n",
      "\u001b[0;32m~/opt/anaconda3/lib/python3.9/site-packages/sklearn/utils/extmath.py\u001b[0m in \u001b[0;36msafe_sparse_dot\u001b[0;34m(a, b, dense_output)\u001b[0m\n\u001b[1;32m    150\u001b[0m             \u001b[0mret\u001b[0m \u001b[0;34m=\u001b[0m \u001b[0mnp\u001b[0m\u001b[0;34m.\u001b[0m\u001b[0mdot\u001b[0m\u001b[0;34m(\u001b[0m\u001b[0ma\u001b[0m\u001b[0;34m,\u001b[0m \u001b[0mb\u001b[0m\u001b[0;34m)\u001b[0m\u001b[0;34m\u001b[0m\u001b[0;34m\u001b[0m\u001b[0m\n\u001b[1;32m    151\u001b[0m     \u001b[0;32melse\u001b[0m\u001b[0;34m:\u001b[0m\u001b[0;34m\u001b[0m\u001b[0;34m\u001b[0m\u001b[0m\n\u001b[0;32m--> 152\u001b[0;31m         \u001b[0mret\u001b[0m \u001b[0;34m=\u001b[0m \u001b[0ma\u001b[0m \u001b[0;34m@\u001b[0m \u001b[0mb\u001b[0m\u001b[0;34m\u001b[0m\u001b[0;34m\u001b[0m\u001b[0m\n\u001b[0m\u001b[1;32m    153\u001b[0m \u001b[0;34m\u001b[0m\u001b[0m\n\u001b[1;32m    154\u001b[0m     if (sparse.issparse(a) and sparse.issparse(b)\n",
      "\u001b[0;32m~/opt/anaconda3/lib/python3.9/site-packages/scipy/sparse/base.py\u001b[0m in \u001b[0;36m__matmul__\u001b[0;34m(self, other)\u001b[0m\n\u001b[1;32m    558\u001b[0m             raise ValueError(\"Scalar operands are not allowed, \"\n\u001b[1;32m    559\u001b[0m                              \"use '*' instead\")\n\u001b[0;32m--> 560\u001b[0;31m         \u001b[0;32mreturn\u001b[0m \u001b[0mself\u001b[0m\u001b[0;34m.\u001b[0m\u001b[0m__mul__\u001b[0m\u001b[0;34m(\u001b[0m\u001b[0mother\u001b[0m\u001b[0;34m)\u001b[0m\u001b[0;34m\u001b[0m\u001b[0;34m\u001b[0m\u001b[0m\n\u001b[0m\u001b[1;32m    561\u001b[0m \u001b[0;34m\u001b[0m\u001b[0m\n\u001b[1;32m    562\u001b[0m     \u001b[0;32mdef\u001b[0m \u001b[0m__rmatmul__\u001b[0m\u001b[0;34m(\u001b[0m\u001b[0mself\u001b[0m\u001b[0;34m,\u001b[0m \u001b[0mother\u001b[0m\u001b[0;34m)\u001b[0m\u001b[0;34m:\u001b[0m\u001b[0;34m\u001b[0m\u001b[0;34m\u001b[0m\u001b[0m\n",
      "\u001b[0;32m~/opt/anaconda3/lib/python3.9/site-packages/scipy/sparse/base.py\u001b[0m in \u001b[0;36m__mul__\u001b[0;34m(self, other)\u001b[0m\n\u001b[1;32m    514\u001b[0m \u001b[0;34m\u001b[0m\u001b[0m\n\u001b[1;32m    515\u001b[0m             \u001b[0;32mif\u001b[0m \u001b[0mother\u001b[0m\u001b[0;34m.\u001b[0m\u001b[0mshape\u001b[0m\u001b[0;34m[\u001b[0m\u001b[0;36m0\u001b[0m\u001b[0;34m]\u001b[0m \u001b[0;34m!=\u001b[0m \u001b[0mself\u001b[0m\u001b[0;34m.\u001b[0m\u001b[0mshape\u001b[0m\u001b[0;34m[\u001b[0m\u001b[0;36m1\u001b[0m\u001b[0;34m]\u001b[0m\u001b[0;34m:\u001b[0m\u001b[0;34m\u001b[0m\u001b[0;34m\u001b[0m\u001b[0m\n\u001b[0;32m--> 516\u001b[0;31m                 \u001b[0;32mraise\u001b[0m \u001b[0mValueError\u001b[0m\u001b[0;34m(\u001b[0m\u001b[0;34m'dimension mismatch'\u001b[0m\u001b[0;34m)\u001b[0m\u001b[0;34m\u001b[0m\u001b[0;34m\u001b[0m\u001b[0m\n\u001b[0m\u001b[1;32m    517\u001b[0m \u001b[0;34m\u001b[0m\u001b[0m\n\u001b[1;32m    518\u001b[0m             \u001b[0mresult\u001b[0m \u001b[0;34m=\u001b[0m \u001b[0mself\u001b[0m\u001b[0;34m.\u001b[0m\u001b[0m_mul_multivector\u001b[0m\u001b[0;34m(\u001b[0m\u001b[0mnp\u001b[0m\u001b[0;34m.\u001b[0m\u001b[0masarray\u001b[0m\u001b[0;34m(\u001b[0m\u001b[0mother\u001b[0m\u001b[0;34m)\u001b[0m\u001b[0;34m)\u001b[0m\u001b[0;34m\u001b[0m\u001b[0;34m\u001b[0m\u001b[0m\n",
      "\u001b[0;31mValueError\u001b[0m: dimension mismatch"
     ]
    }
   ],
   "source": [
    "# store the id from the raw data\n",
    "my_submission = pd.DataFrame(raw_data[\"id\"])\n",
    "# concatenate predictions to the id\n",
    "my_submission[\"prediction\"] = nbs.predict(X_test_submission) #change\n",
    "# look at the proportion of positive predictions\n",
    "print(my_submission['prediction'].mean())"
   ]
  },
  {
   "cell_type": "code",
   "execution_count": 27,
   "metadata": {},
   "outputs": [
    {
     "data": {
      "text/html": [
       "<div>\n",
       "<style scoped>\n",
       "    .dataframe tbody tr th:only-of-type {\n",
       "        vertical-align: middle;\n",
       "    }\n",
       "\n",
       "    .dataframe tbody tr th {\n",
       "        vertical-align: top;\n",
       "    }\n",
       "\n",
       "    .dataframe thead th {\n",
       "        text-align: right;\n",
       "    }\n",
       "</style>\n",
       "<table border=\"1\" class=\"dataframe\">\n",
       "  <thead>\n",
       "    <tr style=\"text-align: right;\">\n",
       "      <th></th>\n",
       "      <th>id</th>\n",
       "      <th>review</th>\n",
       "      <th>word_count</th>\n",
       "      <th>punc_count</th>\n",
       "    </tr>\n",
       "  </thead>\n",
       "  <tbody>\n",
       "    <tr>\n",
       "      <th>0</th>\n",
       "      <td>12311_10</td>\n",
       "      <td>Naturally in a film who's main themes are of m...</td>\n",
       "      <td>131</td>\n",
       "      <td>5</td>\n",
       "    </tr>\n",
       "    <tr>\n",
       "      <th>1</th>\n",
       "      <td>8348_2</td>\n",
       "      <td>This movie is a disaster within a disaster fil...</td>\n",
       "      <td>169</td>\n",
       "      <td>15</td>\n",
       "    </tr>\n",
       "    <tr>\n",
       "      <th>2</th>\n",
       "      <td>5828_4</td>\n",
       "      <td>All in all, this is a movie for kids. We saw i...</td>\n",
       "      <td>176</td>\n",
       "      <td>18</td>\n",
       "    </tr>\n",
       "    <tr>\n",
       "      <th>3</th>\n",
       "      <td>7186_2</td>\n",
       "      <td>Afraid of the Dark left me with the impression...</td>\n",
       "      <td>112</td>\n",
       "      <td>5</td>\n",
       "    </tr>\n",
       "    <tr>\n",
       "      <th>4</th>\n",
       "      <td>12128_7</td>\n",
       "      <td>A very accurate depiction of small time mob li...</td>\n",
       "      <td>133</td>\n",
       "      <td>8</td>\n",
       "    </tr>\n",
       "  </tbody>\n",
       "</table>\n",
       "</div>"
      ],
      "text/plain": [
       "         id                                             review  word_count  \\\n",
       "0  12311_10  Naturally in a film who's main themes are of m...         131   \n",
       "1    8348_2  This movie is a disaster within a disaster fil...         169   \n",
       "2    5828_4  All in all, this is a movie for kids. We saw i...         176   \n",
       "3    7186_2  Afraid of the Dark left me with the impression...         112   \n",
       "4   12128_7  A very accurate depiction of small time mob li...         133   \n",
       "\n",
       "   punc_count  \n",
       "0           5  \n",
       "1          15  \n",
       "2          18  \n",
       "3           5  \n",
       "4           8  "
      ]
     },
     "execution_count": 27,
     "metadata": {},
     "output_type": "execute_result"
    }
   ],
   "source": [
    "raw_data.head()"
   ]
  },
  {
   "cell_type": "code",
   "execution_count": 28,
   "metadata": {},
   "outputs": [
    {
     "data": {
      "text/html": [
       "<div>\n",
       "<style scoped>\n",
       "    .dataframe tbody tr th:only-of-type {\n",
       "        vertical-align: middle;\n",
       "    }\n",
       "\n",
       "    .dataframe tbody tr th {\n",
       "        vertical-align: top;\n",
       "    }\n",
       "\n",
       "    .dataframe thead th {\n",
       "        text-align: right;\n",
       "    }\n",
       "</style>\n",
       "<table border=\"1\" class=\"dataframe\">\n",
       "  <thead>\n",
       "    <tr style=\"text-align: right;\">\n",
       "      <th></th>\n",
       "      <th>id</th>\n",
       "      <th>prediction</th>\n",
       "    </tr>\n",
       "  </thead>\n",
       "  <tbody>\n",
       "    <tr>\n",
       "      <th>0</th>\n",
       "      <td>12311_10</td>\n",
       "      <td>1</td>\n",
       "    </tr>\n",
       "    <tr>\n",
       "      <th>1</th>\n",
       "      <td>8348_2</td>\n",
       "      <td>1</td>\n",
       "    </tr>\n",
       "    <tr>\n",
       "      <th>2</th>\n",
       "      <td>5828_4</td>\n",
       "      <td>0</td>\n",
       "    </tr>\n",
       "    <tr>\n",
       "      <th>3</th>\n",
       "      <td>7186_2</td>\n",
       "      <td>1</td>\n",
       "    </tr>\n",
       "    <tr>\n",
       "      <th>4</th>\n",
       "      <td>12128_7</td>\n",
       "      <td>0</td>\n",
       "    </tr>\n",
       "  </tbody>\n",
       "</table>\n",
       "</div>"
      ],
      "text/plain": [
       "         id  prediction\n",
       "0  12311_10           1\n",
       "1    8348_2           1\n",
       "2    5828_4           0\n",
       "3    7186_2           1\n",
       "4   12128_7           0"
      ]
     },
     "execution_count": 28,
     "metadata": {},
     "output_type": "execute_result"
    }
   ],
   "source": [
    "my_submission.head()"
   ]
  },
  {
   "cell_type": "code",
   "execution_count": 29,
   "metadata": {},
   "outputs": [
    {
     "data": {
      "text/plain": [
       "(25000, 2)"
      ]
     },
     "execution_count": 29,
     "metadata": {},
     "output_type": "execute_result"
    }
   ],
   "source": [
    "my_submission.shape"
   ]
  },
  {
   "cell_type": "code",
   "execution_count": 31,
   "metadata": {},
   "outputs": [],
   "source": [
    "# export submission file as pdf\n",
    "# CHANGE FILE PATH: \n",
    "my_submission.to_csv('/Users/user/Desktop/ML/final_assignment_1/moviereviews_submission.csv', index=False)"
   ]
  },
  {
   "cell_type": "markdown",
   "metadata": {},
   "source": [
    "# Submit to Canvas: 1) the CSV file that was written in the previous cell and 2) the url to the repository (GitHub or other) that contains your code and documentation"
   ]
  }
 ],
 "metadata": {
  "kernelspec": {
   "display_name": "Python 3 (ipykernel)",
   "language": "python",
   "name": "python3"
  },
  "language_info": {
   "codemirror_mode": {
    "name": "ipython",
    "version": 3
   },
   "file_extension": ".py",
   "mimetype": "text/x-python",
   "name": "python",
   "nbconvert_exporter": "python",
   "pygments_lexer": "ipython3",
   "version": "3.9.7"
  }
 },
 "nbformat": 4,
 "nbformat_minor": 2
}
